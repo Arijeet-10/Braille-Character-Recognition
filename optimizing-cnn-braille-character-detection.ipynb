{
 "cells": [
  {
   "cell_type": "code",
   "execution_count": 1,
   "id": "5697d3f6",
   "metadata": {
    "_cell_guid": "b1076dfc-b9ad-4769-8c92-a6c4dae69d19",
    "_uuid": "8f2839f25d086af736a60e9eeb907d3b93b6e0e5",
    "execution": {
     "iopub.execute_input": "2024-11-02T10:28:18.921075Z",
     "iopub.status.busy": "2024-11-02T10:28:18.920086Z",
     "iopub.status.idle": "2024-11-02T10:28:18.924535Z",
     "shell.execute_reply": "2024-11-02T10:28:18.923759Z",
     "shell.execute_reply.started": "2024-11-02T10:14:55.759208Z"
    },
    "papermill": {
     "duration": 0.082792,
     "end_time": "2024-11-02T10:28:18.924728",
     "exception": false,
     "start_time": "2024-11-02T10:28:18.841936",
     "status": "completed"
    },
    "tags": []
   },
   "outputs": [],
   "source": [
    "# This Python 3 environment comes with many helpful analytics libraries installed\n",
    "# It is defined by the kaggle/python Docker image: https://github.com/kaggle/docker-python\n",
    "# For example, here's several helpful packages to load\n",
    "\n",
    "import numpy as np # linear algebra\n",
    "import pandas as pd # data processing, CSV file I/O (e.g. pd.read_csv)\n",
    "import os\n",
    "\n",
    "# Input data files are available in the read-only \"../input/\" directory\n",
    "# For example, running this (by clicking run or pressing Shift+Enter) will list all files under the input directory\n",
    "\n",
    "# for dirname, _, filenames in os.walk('/kaggle/input'):\n",
    "#     for filename in filenames:\n",
    "#         print(os.path.join(dirname, filename))\n",
    "\n",
    "# You can write up to 20GB to the current directory (/kaggle/working/) that gets preserved as output when you create a version using \"Save & Run All\" \n",
    "# You can also write temporary files to /kaggle/temp/, but they won't be saved outside of the current session"
   ]
  },
  {
   "cell_type": "code",
   "execution_count": 1,
   "id": "f3f0bf51",
   "metadata": {},
   "outputs": [
    {
     "name": "stdout",
     "output_type": "stream",
     "text": [
      "^C\n"
     ]
    }
   ],
   "source": [
    "!pip install tensorflow --upgrade --force-reinstall"
   ]
  },
  {
   "cell_type": "code",
   "execution_count": 3,
   "id": "bb961dea",
   "metadata": {
    "execution": {
     "iopub.execute_input": "2024-11-02T10:28:19.058146Z",
     "iopub.status.busy": "2024-11-02T10:28:19.055397Z",
     "iopub.status.idle": "2024-11-02T10:28:25.493174Z",
     "shell.execute_reply": "2024-11-02T10:28:25.492365Z",
     "shell.execute_reply.started": "2024-11-02T10:14:55.801414Z"
    },
    "papermill": {
     "duration": 6.504106,
     "end_time": "2024-11-02T10:28:25.493341",
     "exception": false,
     "start_time": "2024-11-02T10:28:18.989235",
     "status": "completed"
    },
    "tags": []
   },
   "outputs": [
    {
     "ename": "ImportError",
     "evalue": "cannot import name 'keras' from 'tensorflow' (unknown location)",
     "output_type": "error",
     "traceback": [
      "\u001b[1;31m---------------------------------------------------------------------------\u001b[0m",
      "\u001b[1;31mImportError\u001b[0m                               Traceback (most recent call last)",
      "Cell \u001b[1;32mIn[3], line 4\u001b[0m\n\u001b[0;32m      2\u001b[0m \u001b[38;5;28;01mimport\u001b[39;00m \u001b[38;5;21;01mseaborn\u001b[39;00m \u001b[38;5;28;01mas\u001b[39;00m \u001b[38;5;21;01msns\u001b[39;00m\n\u001b[0;32m      3\u001b[0m \u001b[38;5;28;01mimport\u001b[39;00m \u001b[38;5;21;01mtensorflow\u001b[39;00m \u001b[38;5;28;01mas\u001b[39;00m \u001b[38;5;21;01mtf\u001b[39;00m\n\u001b[1;32m----> 4\u001b[0m \u001b[38;5;28;01mfrom\u001b[39;00m \u001b[38;5;21;01mtensorflow\u001b[39;00m \u001b[38;5;28;01mimport\u001b[39;00m keras\n\u001b[0;32m      5\u001b[0m \u001b[38;5;28;01mfrom\u001b[39;00m \u001b[38;5;21;01mpathlib\u001b[39;00m \u001b[38;5;28;01mimport\u001b[39;00m Path\n\u001b[0;32m      6\u001b[0m \u001b[38;5;28;01mfrom\u001b[39;00m \u001b[38;5;21;01msklearn\u001b[39;00m\u001b[38;5;21;01m.\u001b[39;00m\u001b[38;5;21;01mpreprocessing\u001b[39;00m \u001b[38;5;28;01mimport\u001b[39;00m LabelEncoder\n",
      "\u001b[1;31mImportError\u001b[0m: cannot import name 'keras' from 'tensorflow' (unknown location)"
     ]
    }
   ],
   "source": [
    "import matplotlib.pyplot as plt\n",
    "import seaborn as sns\n",
    "import tensorflow as tf\n",
    "from tensorflow import keras\n",
    "from pathlib import Path\n",
    "from sklearn.preprocessing import LabelEncoder\n",
    "import PIL\n",
    "import cv2"
   ]
  },
  {
   "cell_type": "code",
   "execution_count": null,
   "id": "e69107f7",
   "metadata": {
    "execution": {
     "iopub.execute_input": "2024-11-02T10:28:25.628096Z",
     "iopub.status.busy": "2024-11-02T10:28:25.627081Z",
     "iopub.status.idle": "2024-11-02T10:28:25.630052Z",
     "shell.execute_reply": "2024-11-02T10:28:25.629373Z",
     "shell.execute_reply.started": "2024-11-02T10:15:04.494961Z"
    },
    "papermill": {
     "duration": 0.071027,
     "end_time": "2024-11-02T10:28:25.630228",
     "exception": false,
     "start_time": "2024-11-02T10:28:25.559201",
     "status": "completed"
    },
    "tags": []
   },
   "outputs": [],
   "source": [
    "image_dir = Path('../input/braille-character-dataset/Braille Dataset/Braille Dataset')"
   ]
  },
  {
   "cell_type": "code",
   "execution_count": null,
   "id": "4e3ea80b",
   "metadata": {
    "execution": {
     "iopub.execute_input": "2024-11-02T10:28:25.763791Z",
     "iopub.status.busy": "2024-11-02T10:28:25.762919Z",
     "iopub.status.idle": "2024-11-02T10:28:26.292341Z",
     "shell.execute_reply": "2024-11-02T10:28:26.291578Z",
     "shell.execute_reply.started": "2024-11-02T10:15:04.504700Z"
    },
    "papermill": {
     "duration": 0.599507,
     "end_time": "2024-11-02T10:28:26.292517",
     "exception": false,
     "start_time": "2024-11-02T10:28:25.693010",
     "status": "completed"
    },
    "tags": []
   },
   "outputs": [],
   "source": [
    "dir_list = list(image_dir.glob('*.jpg'))"
   ]
  },
  {
   "cell_type": "code",
   "execution_count": null,
   "id": "bc2aab09",
   "metadata": {
    "execution": {
     "iopub.execute_input": "2024-11-02T10:28:26.429080Z",
     "iopub.status.busy": "2024-11-02T10:28:26.428123Z",
     "iopub.status.idle": "2024-11-02T10:28:26.434864Z",
     "shell.execute_reply": "2024-11-02T10:28:26.435866Z",
     "shell.execute_reply.started": "2024-11-02T10:15:04.923689Z"
    },
    "papermill": {
     "duration": 0.079653,
     "end_time": "2024-11-02T10:28:26.436171",
     "exception": false,
     "start_time": "2024-11-02T10:28:26.356518",
     "status": "completed"
    },
    "tags": []
   },
   "outputs": [
    {
     "data": {
      "text/plain": [
       "1560"
      ]
     },
     "execution_count": 5,
     "metadata": {},
     "output_type": "execute_result"
    }
   ],
   "source": [
    "image_count = len(dir_list)\n",
    "image_count"
   ]
  },
  {
   "cell_type": "code",
   "execution_count": null,
   "id": "cb444fa0",
   "metadata": {
    "execution": {
     "iopub.execute_input": "2024-11-02T10:28:26.576434Z",
     "iopub.status.busy": "2024-11-02T10:28:26.572956Z",
     "iopub.status.idle": "2024-11-02T10:28:26.579495Z",
     "shell.execute_reply": "2024-11-02T10:28:26.578788Z",
     "shell.execute_reply.started": "2024-11-02T10:15:04.935400Z"
    },
    "papermill": {
     "duration": 0.078138,
     "end_time": "2024-11-02T10:28:26.579659",
     "exception": false,
     "start_time": "2024-11-02T10:28:26.501521",
     "status": "completed"
    },
    "tags": []
   },
   "outputs": [],
   "source": [
    "name_list = []\n",
    "for i in dir_list:\n",
    "    name_list.append(os.path.basename(i)[0])"
   ]
  },
  {
   "cell_type": "code",
   "execution_count": null,
   "id": "dc85543b",
   "metadata": {
    "execution": {
     "iopub.execute_input": "2024-11-02T10:28:26.715123Z",
     "iopub.status.busy": "2024-11-02T10:28:26.714308Z",
     "iopub.status.idle": "2024-11-02T10:28:38.493798Z",
     "shell.execute_reply": "2024-11-02T10:28:38.493045Z",
     "shell.execute_reply.started": "2024-11-02T10:15:04.955825Z"
    },
    "papermill": {
     "duration": 11.850213,
     "end_time": "2024-11-02T10:28:38.493964",
     "exception": false,
     "start_time": "2024-11-02T10:28:26.643751",
     "status": "completed"
    },
    "tags": []
   },
   "outputs": [],
   "source": [
    "#opens images and puts into a list\n",
    "images = []\n",
    "for dir in dir_list:\n",
    "    I = cv2.imread(str(dir))\n",
    "    images.append(I)"
   ]
  },
  {
   "cell_type": "code",
   "execution_count": null,
   "id": "5fb78a94",
   "metadata": {
    "execution": {
     "iopub.execute_input": "2024-11-02T10:28:38.627499Z",
     "iopub.status.busy": "2024-11-02T10:28:38.626703Z",
     "iopub.status.idle": "2024-11-02T10:28:38.635239Z",
     "shell.execute_reply": "2024-11-02T10:28:38.634622Z",
     "shell.execute_reply.started": "2024-11-02T10:15:16.822713Z"
    },
    "papermill": {
     "duration": 0.076266,
     "end_time": "2024-11-02T10:28:38.635405",
     "exception": false,
     "start_time": "2024-11-02T10:28:38.559139",
     "status": "completed"
    },
    "tags": []
   },
   "outputs": [],
   "source": [
    "#turn both lists in numpy arrays\n",
    "images_list = np.array(images)\n",
    "name_list = np.array(name_list).T #transpose - convert columns to rows"
   ]
  },
  {
   "cell_type": "code",
   "execution_count": null,
   "id": "21611a71",
   "metadata": {
    "execution": {
     "iopub.execute_input": "2024-11-02T10:28:38.771155Z",
     "iopub.status.busy": "2024-11-02T10:28:38.770403Z",
     "iopub.status.idle": "2024-11-02T10:28:38.790348Z",
     "shell.execute_reply": "2024-11-02T10:28:38.790915Z",
     "shell.execute_reply.started": "2024-11-02T10:15:16.839804Z"
    },
    "papermill": {
     "duration": 0.092447,
     "end_time": "2024-11-02T10:28:38.791156",
     "exception": false,
     "start_time": "2024-11-02T10:28:38.698709",
     "status": "completed"
    },
    "tags": []
   },
   "outputs": [
    {
     "name": "stdout",
     "output_type": "stream",
     "text": [
      "[[[1.         1.         1.        ]\n",
      "  [1.         1.         1.        ]\n",
      "  [1.         1.         1.        ]\n",
      "  ...\n",
      "  [0.97647059 0.97647059 0.97647059]\n",
      "  [0.98431373 0.98431373 0.98431373]\n",
      "  [0.99607843 0.99607843 0.99607843]]\n",
      "\n",
      " [[0.98431373 0.98431373 0.98431373]\n",
      "  [0.99215686 0.99215686 0.99215686]\n",
      "  [1.         1.         1.        ]\n",
      "  ...\n",
      "  [0.98039216 0.98039216 0.98039216]\n",
      "  [0.98823529 0.98823529 0.98823529]\n",
      "  [0.99607843 0.99607843 0.99607843]]\n",
      "\n",
      " [[0.97254902 0.97254902 0.97254902]\n",
      "  [0.98039216 0.98039216 0.98039216]\n",
      "  [0.98823529 0.98823529 0.98823529]\n",
      "  ...\n",
      "  [0.98431373 0.98431373 0.98431373]\n",
      "  [0.99215686 0.99215686 0.99215686]\n",
      "  [1.         1.         1.        ]]\n",
      "\n",
      " ...\n",
      "\n",
      " [[1.         1.         1.        ]\n",
      "  [1.         1.         1.        ]\n",
      "  [1.         1.         1.        ]\n",
      "  ...\n",
      "  [0.98431373 0.98431373 0.98431373]\n",
      "  [0.98039216 0.98039216 0.98039216]\n",
      "  [0.97647059 0.97647059 0.97647059]]\n",
      "\n",
      " [[1.         1.         1.        ]\n",
      "  [1.         1.         1.        ]\n",
      "  [1.         1.         1.        ]\n",
      "  ...\n",
      "  [0.99607843 0.99607843 0.99607843]\n",
      "  [0.98823529 0.98823529 0.98823529]\n",
      "  [0.98431373 0.98431373 0.98431373]]\n",
      "\n",
      " [[1.         1.         1.        ]\n",
      "  [1.         1.         1.        ]\n",
      "  [1.         1.         1.        ]\n",
      "  ...\n",
      "  [0.98823529 0.98823529 0.98823529]\n",
      "  [0.98431373 0.98431373 0.98431373]\n",
      "  [0.98039216 0.98039216 0.98039216]]]\n"
     ]
    }
   ],
   "source": [
    "#encodes name_list and normalizes image_list\n",
    "le = LabelEncoder()\n",
    "name_list = le.fit_transform(name_list)\n",
    "\n",
    "#covert image to 0 to 255 (pixel information)\n",
    "images_list = images_list / 255.0 \n",
    "print(images_list[0])"
   ]
  },
  {
   "cell_type": "code",
   "execution_count": null,
   "id": "c0ce312b",
   "metadata": {
    "execution": {
     "iopub.execute_input": "2024-11-02T10:28:38.928219Z",
     "iopub.status.busy": "2024-11-02T10:28:38.927356Z",
     "iopub.status.idle": "2024-11-02T10:28:39.123642Z",
     "shell.execute_reply": "2024-11-02T10:28:39.124208Z",
     "shell.execute_reply.started": "2024-11-02T10:15:16.874112Z"
    },
    "papermill": {
     "duration": 0.269124,
     "end_time": "2024-11-02T10:28:39.124411",
     "exception": false,
     "start_time": "2024-11-02T10:28:38.855287",
     "status": "completed"
    },
    "tags": []
   },
   "outputs": [
    {
     "data": {
      "text/plain": [
       "<matplotlib.image.AxesImage at 0x7a3731bf8250>"
      ]
     },
     "execution_count": 10,
     "metadata": {},
     "output_type": "execute_result"
    },
    {
     "data": {
      "image/png": "[encoded data removed]",
      "text/plain": [
       "<Figure size 432x288 with 1 Axes>"
      ]
     },
     "metadata": {
      "needs_background": "light"
     },
     "output_type": "display_data"
    }
   ],
   "source": [
    "plt.imshow(images_list[1])"
   ]
  },
  {
   "cell_type": "code",
   "execution_count": null,
   "id": "7658b01e",
   "metadata": {
    "execution": {
     "iopub.execute_input": "2024-11-02T10:28:39.259552Z",
     "iopub.status.busy": "2024-11-02T10:28:39.258740Z",
     "iopub.status.idle": "2024-11-02T10:28:39.314926Z",
     "shell.execute_reply": "2024-11-02T10:28:39.314346Z",
     "shell.execute_reply.started": "2024-11-02T10:15:17.205489Z"
    },
    "papermill": {
     "duration": 0.125723,
     "end_time": "2024-11-02T10:28:39.315094",
     "exception": false,
     "start_time": "2024-11-02T10:28:39.189371",
     "status": "completed"
    },
    "tags": []
   },
   "outputs": [],
   "source": [
    "from sklearn.model_selection import train_test_split"
   ]
  },
  {
   "cell_type": "code",
   "execution_count": null,
   "id": "4c7999eb",
   "metadata": {
    "execution": {
     "iopub.execute_input": "2024-11-02T10:28:39.455308Z",
     "iopub.status.busy": "2024-11-02T10:28:39.454560Z",
     "iopub.status.idle": "2024-11-02T10:28:39.472848Z",
     "shell.execute_reply": "2024-11-02T10:28:39.472182Z",
     "shell.execute_reply.started": "2024-11-02T10:15:17.318095Z"
    },
    "papermill": {
     "duration": 0.090876,
     "end_time": "2024-11-02T10:28:39.473006",
     "exception": false,
     "start_time": "2024-11-02T10:28:39.382130",
     "status": "completed"
    },
    "tags": []
   },
   "outputs": [],
   "source": [
    "X_train, X_test, y_train, y_test = train_test_split(images_list, name_list, test_size=0.2, random_state=42)"
   ]
  },
  {
   "cell_type": "markdown",
   "id": "418e228e",
   "metadata": {
    "papermill": {
     "duration": 0.064469,
     "end_time": "2024-11-02T10:28:39.602313",
     "exception": false,
     "start_time": "2024-11-02T10:28:39.537844",
     "status": "completed"
    },
    "tags": []
   },
   "source": [
    "# Creating model: Trial 1: Adam Optimizer"
   ]
  },
  {
   "cell_type": "code",
   "execution_count": null,
   "id": "68f4cf12",
   "metadata": {
    "execution": {
     "iopub.execute_input": "2024-11-02T10:28:39.743692Z",
     "iopub.status.busy": "2024-11-02T10:28:39.742858Z",
     "iopub.status.idle": "2024-11-02T10:28:40.871305Z",
     "shell.execute_reply": "2024-11-02T10:28:40.870669Z",
     "shell.execute_reply.started": "2024-11-02T10:15:17.356935Z"
    },
    "papermill": {
     "duration": 1.204679,
     "end_time": "2024-11-02T10:28:40.871468",
     "exception": false,
     "start_time": "2024-11-02T10:28:39.666789",
     "status": "completed"
    },
    "tags": []
   },
   "outputs": [
    {
     "name": "stderr",
     "output_type": "stream",
     "text": [
      "\n",
      "User settings:\n",
      "\n",
      "   KMP_AFFINITY=granularity=fine,verbose,compact,1,0\n",
      "   KMP_BLOCKTIME=0\n",
      "   KMP_DUPLICATE_LIB_OK=True\n",
      "   KMP_INIT_AT_FORK=FALSE\n",
      "   KMP_SETTINGS=1\n",
      "   KMP_WARNINGS=0\n",
      "\n",
      "Effective settings:\n",
      "\n",
      "   KMP_ABORT_DELAY=0\n",
      "   KMP_ADAPTIVE_LOCK_PROPS='1,1024'\n",
      "   KMP_ALIGN_ALLOC=64\n",
      "   KMP_ALL_THREADPRIVATE=128\n",
      "   KMP_ATOMIC_MODE=2\n",
      "   KMP_BLOCKTIME=0\n",
      "   KMP_CPUINFO_FILE: value is not defined\n",
      "   KMP_DETERMINISTIC_REDUCTION=false\n",
      "   KMP_DEVICE_THREAD_LIMIT=2147483647\n",
      "   KMP_DISP_NUM_BUFFERS=7\n",
      "   KMP_DUPLICATE_LIB_OK=true\n",
      "   KMP_ENABLE_TASK_THROTTLING=true\n",
      "   KMP_FORCE_REDUCTION: value is not defined\n",
      "   KMP_FOREIGN_THREADS_THREADPRIVATE=true\n",
      "   KMP_FORKJOIN_BARRIER='2,2'\n",
      "   KMP_FORKJOIN_BARRIER_PATTERN='hyper,hyper'\n",
      "   KMP_GTID_MODE=3\n",
      "   KMP_HANDLE_SIGNALS=false\n",
      "   KMP_HOT_TEAMS_MAX_LEVEL=1\n",
      "   KMP_HOT_TEAMS_MODE=0\n",
      "   KMP_INIT_AT_FORK=true\n",
      "   KMP_LIBRARY=throughput\n",
      "   KMP_LOCK_KIND=queuing\n",
      "   KMP_MALLOC_POOL_INCR=1M\n",
      "   KMP_NUM_LOCKS_IN_BLOCK=1\n",
      "   KMP_PLAIN_BARRIER='2,2'\n",
      "   KMP_PLAIN_BARRIER_PATTERN='hyper,hyper'\n",
      "   KMP_REDUCTION_BARRIER='1,1'\n",
      "   KMP_REDUCTION_BARRIER_PATTERN='hyper,hyper'\n",
      "   KMP_SCHEDULE='static,balanced;guided,iterative'\n",
      "   KMP_SETTINGS=true\n",
      "   KMP_SPIN_BACKOFF_PARAMS='4096,100'\n",
      "   KMP_STACKOFFSET=64\n",
      "   KMP_STACKPAD=0\n",
      "   KMP_STACKSIZE=8M\n",
      "   KMP_STORAGE_MAP=false\n",
      "   KMP_TASKING=2\n",
      "   KMP_TASKLOOP_MIN_TASKS=0\n",
      "   KMP_TASK_STEALING_CONSTRAINT=1\n",
      "   KMP_TEAMS_THREAD_LIMIT=4\n",
      "   KMP_TOPOLOGY_METHOD=all\n",
      "   KMP_USE_YIELD=1\n",
      "   KMP_VERSION=false\n",
      "   KMP_WARNINGS=false\n",
      "   OMP_AFFINITY_FORMAT='OMP: pid %P tid %i thread %n bound to OS proc set {%A}'\n",
      "   OMP_ALLOCATOR=omp_default_mem_alloc\n",
      "   OMP_CANCELLATION=false\n",
      "   OMP_DEFAULT_DEVICE=0\n",
      "   OMP_DISPLAY_AFFINITY=false\n",
      "   OMP_DISPLAY_ENV=false\n",
      "   OMP_DYNAMIC=false\n",
      "   OMP_MAX_ACTIVE_LEVELS=1\n",
      "   OMP_MAX_TASK_PRIORITY=0\n",
      "   OMP_NESTED: deprecated; max-active-levels-var=1\n",
      "   OMP_NUM_THREADS: value is not defined\n",
      "   OMP_PLACES: value is not defined\n",
      "   OMP_PROC_BIND='intel'\n",
      "   OMP_SCHEDULE='static'\n",
      "   OMP_STACKSIZE=8M\n",
      "   OMP_TARGET_OFFLOAD=DEFAULT\n",
      "   OMP_THREAD_LIMIT=2147483647\n",
      "   OMP_WAIT_POLICY=PASSIVE\n",
      "   KMP_AFFINITY='verbose,warnings,respect,granularity=fine,compact,1,0'\n",
      "\n"
     ]
    }
   ],
   "source": [
    "model = keras.Sequential([\n",
    "    keras.layers.Conv2D(filters=64, kernel_size=(5, 5), padding='same', activation='relu'),\n",
    "    keras.layers.MaxPooling2D(pool_size=(2,2)),\n",
    "    keras.layers.BatchNormalization(),\n",
    "\n",
    "    keras.layers.Conv2D(filters=64, kernel_size=(3, 3), padding='same', activation='relu'),\n",
    "    keras.layers.MaxPooling2D(pool_size=(2,2)),\n",
    "    keras.layers.Dropout(0.25),   \n",
    "    keras.layers.BatchNormalization(),\n",
    "    \n",
    "    keras.layers.Conv2D(filters=64, kernel_size=(3, 3), padding='same', activation='relu'),\n",
    "    keras.layers.MaxPooling2D(pool_size=(2,2)),\n",
    "    keras.layers.Dropout(0.25),   \n",
    "    keras.layers.BatchNormalization(),\n",
    "\n",
    "    keras.layers.Flatten(),\n",
    "    \n",
    "    keras.layers.Dense(units=576, activation=\"relu\"),\n",
    "    keras.layers.Dropout(0.25),\n",
    "    keras.layers.BatchNormalization(),\n",
    "\n",
    "    keras.layers.Dense(units=288, activation=\"relu\"),\n",
    "\n",
    "    keras.layers.Dense(units=26, activation=\"softmax\") #output layer\n",
    "])"
   ]
  },
  {
   "cell_type": "markdown",
   "id": "e0bd559a",
   "metadata": {
    "papermill": {
     "duration": 0.065802,
     "end_time": "2024-11-02T10:28:41.002641",
     "exception": false,
     "start_time": "2024-11-02T10:28:40.936839",
     "status": "completed"
    },
    "tags": []
   },
   "source": [
    "SAME Padding: it applies padding to the input image so that the input image gets fully covered by the filter and specified stride.It is called SAME because, for stride 1 , the output will be the same as the input."
   ]
  },
  {
   "cell_type": "code",
   "execution_count": null,
   "id": "8a441ecd",
   "metadata": {
    "execution": {
     "iopub.execute_input": "2024-11-02T10:28:41.145940Z",
     "iopub.status.busy": "2024-11-02T10:28:41.145218Z",
     "iopub.status.idle": "2024-11-02T10:28:41.160008Z",
     "shell.execute_reply": "2024-11-02T10:28:41.159420Z",
     "shell.execute_reply.started": "2024-11-02T10:15:19.174806Z"
    },
    "papermill": {
     "duration": 0.092347,
     "end_time": "2024-11-02T10:28:41.160212",
     "exception": false,
     "start_time": "2024-11-02T10:28:41.067865",
     "status": "completed"
    },
    "tags": []
   },
   "outputs": [],
   "source": [
    "model.compile(optimizer=\"Adam\", loss=\"SparseCategoricalCrossentropy\", metrics=[\"sparse_categorical_accuracy\"])"
   ]
  },
  {
   "cell_type": "markdown",
   "id": "a29fb9f5",
   "metadata": {
    "papermill": {
     "duration": 0.064813,
     "end_time": "2024-11-02T10:28:41.289738",
     "exception": false,
     "start_time": "2024-11-02T10:28:41.224925",
     "status": "completed"
    },
    "tags": []
   },
   "source": [
    "if you use categorical-cross-entropy you need one-hot encoding, and if you use sparse-categorical-cross-entropy you encode as normal integers."
   ]
  },
  {
   "cell_type": "code",
   "execution_count": null,
   "id": "4eb724b5",
   "metadata": {
    "execution": {
     "iopub.execute_input": "2024-11-02T10:28:41.426708Z",
     "iopub.status.busy": "2024-11-02T10:28:41.425879Z",
     "iopub.status.idle": "2024-11-02T10:28:41.429585Z",
     "shell.execute_reply": "2024-11-02T10:28:41.428935Z",
     "shell.execute_reply.started": "2024-11-02T10:15:19.210505Z"
    },
    "papermill": {
     "duration": 0.07487,
     "end_time": "2024-11-02T10:28:41.429744",
     "exception": false,
     "start_time": "2024-11-02T10:28:41.354874",
     "status": "completed"
    },
    "tags": []
   },
   "outputs": [],
   "source": [
    "from keras.callbacks import EarlyStopping"
   ]
  },
  {
   "cell_type": "code",
   "execution_count": null,
   "id": "08eb3f3e",
   "metadata": {
    "execution": {
     "iopub.execute_input": "2024-11-02T10:28:41.570673Z",
     "iopub.status.busy": "2024-11-02T10:28:41.569622Z",
     "iopub.status.idle": "2024-11-02T10:29:56.085941Z",
     "shell.execute_reply": "2024-11-02T10:29:56.085252Z",
     "shell.execute_reply.started": "2024-11-02T10:15:19.220440Z"
    },
    "papermill": {
     "duration": 74.589408,
     "end_time": "2024-11-02T10:29:56.086132",
     "exception": false,
     "start_time": "2024-11-02T10:28:41.496724",
     "status": "completed"
    },
    "tags": []
   },
   "outputs": [
    {
     "name": "stdout",
     "output_type": "stream",
     "text": [
      "Epoch 1/100\n",
      "28/28 [==============================] - 3s 56ms/step - loss: 3.2901 - sparse_categorical_accuracy: 0.1088 - val_loss: 3.3275 - val_sparse_categorical_accuracy: 0.0347\n",
      "Epoch 2/100\n",
      "28/28 [==============================] - 1s 42ms/step - loss: 2.0173 - sparse_categorical_accuracy: 0.4066 - val_loss: 4.5963 - val_sparse_categorical_accuracy: 0.0347\n",
      "Epoch 3/100\n",
      "28/28 [==============================] - 1s 43ms/step - loss: 1.4359 - sparse_categorical_accuracy: 0.5659 - val_loss: 5.3661 - val_sparse_categorical_accuracy: 0.0347\n",
      "Epoch 4/100\n",
      "28/28 [==============================] - 1s 42ms/step - loss: 1.0661 - sparse_categorical_accuracy: 0.6930 - val_loss: 7.5800 - val_sparse_categorical_accuracy: 0.0347\n",
      "Epoch 5/100\n",
      "28/28 [==============================] - 1s 42ms/step - loss: 0.8935 - sparse_categorical_accuracy: 0.7320 - val_loss: 8.5713 - val_sparse_categorical_accuracy: 0.0347\n",
      "Epoch 6/100\n",
      "28/28 [==============================] - 1s 42ms/step - loss: 0.7738 - sparse_categorical_accuracy: 0.7595 - val_loss: 8.7949 - val_sparse_categorical_accuracy: 0.0347\n",
      "Epoch 7/100\n",
      "28/28 [==============================] - 1s 41ms/step - loss: 0.5967 - sparse_categorical_accuracy: 0.8110 - val_loss: 12.3304 - val_sparse_categorical_accuracy: 0.0347\n",
      "Epoch 8/100\n",
      "28/28 [==============================] - 1s 41ms/step - loss: 0.5130 - sparse_categorical_accuracy: 0.8442 - val_loss: 13.2681 - val_sparse_categorical_accuracy: 0.0347\n",
      "Epoch 9/100\n",
      "28/28 [==============================] - 1s 41ms/step - loss: 0.4285 - sparse_categorical_accuracy: 0.8809 - val_loss: 13.1098 - val_sparse_categorical_accuracy: 0.0347\n",
      "Epoch 10/100\n",
      "28/28 [==============================] - 1s 44ms/step - loss: 0.3944 - sparse_categorical_accuracy: 0.8797 - val_loss: 14.3885 - val_sparse_categorical_accuracy: 0.0347\n",
      "Epoch 11/100\n",
      "28/28 [==============================] - 1s 41ms/step - loss: 0.3048 - sparse_categorical_accuracy: 0.9107 - val_loss: 13.7493 - val_sparse_categorical_accuracy: 0.0347\n",
      "Epoch 12/100\n",
      "28/28 [==============================] - 1s 42ms/step - loss: 0.2752 - sparse_categorical_accuracy: 0.9095 - val_loss: 14.3796 - val_sparse_categorical_accuracy: 0.0347\n",
      "Epoch 13/100\n",
      "28/28 [==============================] - 1s 41ms/step - loss: 0.2274 - sparse_categorical_accuracy: 0.9290 - val_loss: 14.3092 - val_sparse_categorical_accuracy: 0.0347\n",
      "Epoch 14/100\n",
      "28/28 [==============================] - 1s 41ms/step - loss: 0.1947 - sparse_categorical_accuracy: 0.9427 - val_loss: 13.9123 - val_sparse_categorical_accuracy: 0.0347\n",
      "Epoch 15/100\n",
      "28/28 [==============================] - 1s 41ms/step - loss: 0.1789 - sparse_categorical_accuracy: 0.9359 - val_loss: 11.2820 - val_sparse_categorical_accuracy: 0.0347\n",
      "Epoch 16/100\n",
      "28/28 [==============================] - 1s 41ms/step - loss: 0.1666 - sparse_categorical_accuracy: 0.9553 - val_loss: 7.7710 - val_sparse_categorical_accuracy: 0.0347\n",
      "Epoch 17/100\n",
      "28/28 [==============================] - 2s 77ms/step - loss: 0.1560 - sparse_categorical_accuracy: 0.9519 - val_loss: 6.4323 - val_sparse_categorical_accuracy: 0.0640\n",
      "Epoch 18/100\n",
      "28/28 [==============================] - 2s 51ms/step - loss: 0.1503 - sparse_categorical_accuracy: 0.9530 - val_loss: 2.8847 - val_sparse_categorical_accuracy: 0.3387\n",
      "Epoch 19/100\n",
      "28/28 [==============================] - 1s 42ms/step - loss: 0.1435 - sparse_categorical_accuracy: 0.9599 - val_loss: 4.5869 - val_sparse_categorical_accuracy: 0.1253\n",
      "Epoch 20/100\n",
      "28/28 [==============================] - 1s 41ms/step - loss: 0.1280 - sparse_categorical_accuracy: 0.9565 - val_loss: 2.3137 - val_sparse_categorical_accuracy: 0.3947\n",
      "Epoch 21/100\n",
      "28/28 [==============================] - 1s 41ms/step - loss: 0.1279 - sparse_categorical_accuracy: 0.9553 - val_loss: 0.6547 - val_sparse_categorical_accuracy: 0.8400\n",
      "Epoch 22/100\n",
      "28/28 [==============================] - 1s 42ms/step - loss: 0.1158 - sparse_categorical_accuracy: 0.9633 - val_loss: 0.5132 - val_sparse_categorical_accuracy: 0.8773\n",
      "Epoch 23/100\n",
      "28/28 [==============================] - 1s 47ms/step - loss: 0.1224 - sparse_categorical_accuracy: 0.9656 - val_loss: 0.5555 - val_sparse_categorical_accuracy: 0.8720\n",
      "Epoch 24/100\n",
      "28/28 [==============================] - 1s 41ms/step - loss: 0.1273 - sparse_categorical_accuracy: 0.9668 - val_loss: 0.4729 - val_sparse_categorical_accuracy: 0.9120\n",
      "Epoch 25/100\n",
      "28/28 [==============================] - 1s 41ms/step - loss: 0.1582 - sparse_categorical_accuracy: 0.9576 - val_loss: 0.5666 - val_sparse_categorical_accuracy: 0.8640\n",
      "Epoch 26/100\n",
      "28/28 [==============================] - 1s 44ms/step - loss: 0.1652 - sparse_categorical_accuracy: 0.9427 - val_loss: 0.4215 - val_sparse_categorical_accuracy: 0.8827\n",
      "Epoch 27/100\n",
      "28/28 [==============================] - 1s 41ms/step - loss: 0.1128 - sparse_categorical_accuracy: 0.9633 - val_loss: 0.3959 - val_sparse_categorical_accuracy: 0.9013\n",
      "Epoch 28/100\n",
      "28/28 [==============================] - 1s 41ms/step - loss: 0.1038 - sparse_categorical_accuracy: 0.9668 - val_loss: 0.4762 - val_sparse_categorical_accuracy: 0.8880\n",
      "Epoch 29/100\n",
      "28/28 [==============================] - 1s 41ms/step - loss: 0.0881 - sparse_categorical_accuracy: 0.9748 - val_loss: 0.4675 - val_sparse_categorical_accuracy: 0.8880\n",
      "Epoch 30/100\n",
      "28/28 [==============================] - 1s 41ms/step - loss: 0.1076 - sparse_categorical_accuracy: 0.9691 - val_loss: 0.5360 - val_sparse_categorical_accuracy: 0.8720\n",
      "Epoch 31/100\n",
      "28/28 [==============================] - 1s 40ms/step - loss: 0.0762 - sparse_categorical_accuracy: 0.9725 - val_loss: 0.4912 - val_sparse_categorical_accuracy: 0.8987\n",
      "Epoch 32/100\n",
      "28/28 [==============================] - 1s 41ms/step - loss: 0.0502 - sparse_categorical_accuracy: 0.9851 - val_loss: 0.4237 - val_sparse_categorical_accuracy: 0.9173\n",
      "Epoch 33/100\n",
      "28/28 [==============================] - 1s 40ms/step - loss: 0.0719 - sparse_categorical_accuracy: 0.9737 - val_loss: 0.4626 - val_sparse_categorical_accuracy: 0.9013\n",
      "Epoch 34/100\n",
      "28/28 [==============================] - 1s 41ms/step - loss: 0.0642 - sparse_categorical_accuracy: 0.9771 - val_loss: 0.4693 - val_sparse_categorical_accuracy: 0.8960\n",
      "Epoch 35/100\n",
      "28/28 [==============================] - 1s 44ms/step - loss: 0.0606 - sparse_categorical_accuracy: 0.9840 - val_loss: 0.4251 - val_sparse_categorical_accuracy: 0.9173\n",
      "Epoch 36/100\n",
      "28/28 [==============================] - 1s 41ms/step - loss: 0.0524 - sparse_categorical_accuracy: 0.9817 - val_loss: 0.4490 - val_sparse_categorical_accuracy: 0.9147\n",
      "Epoch 37/100\n",
      "28/28 [==============================] - 1s 40ms/step - loss: 0.0464 - sparse_categorical_accuracy: 0.9851 - val_loss: 0.4244 - val_sparse_categorical_accuracy: 0.9093\n",
      "Epoch 38/100\n",
      "28/28 [==============================] - 1s 40ms/step - loss: 0.0446 - sparse_categorical_accuracy: 0.9863 - val_loss: 0.7150 - val_sparse_categorical_accuracy: 0.8640\n",
      "Epoch 39/100\n",
      "28/28 [==============================] - 1s 40ms/step - loss: 0.0429 - sparse_categorical_accuracy: 0.9851 - val_loss: 0.4779 - val_sparse_categorical_accuracy: 0.8720\n",
      "Epoch 40/100\n",
      "28/28 [==============================] - 1s 40ms/step - loss: 0.0689 - sparse_categorical_accuracy: 0.9782 - val_loss: 0.3522 - val_sparse_categorical_accuracy: 0.9333\n",
      "Epoch 41/100\n",
      "28/28 [==============================] - 1s 40ms/step - loss: 0.0482 - sparse_categorical_accuracy: 0.9828 - val_loss: 0.3857 - val_sparse_categorical_accuracy: 0.9253\n",
      "Epoch 42/100\n",
      "28/28 [==============================] - 1s 40ms/step - loss: 0.0366 - sparse_categorical_accuracy: 0.9851 - val_loss: 0.2854 - val_sparse_categorical_accuracy: 0.9333\n",
      "Epoch 43/100\n",
      "28/28 [==============================] - 1s 43ms/step - loss: 0.0521 - sparse_categorical_accuracy: 0.9851 - val_loss: 0.4368 - val_sparse_categorical_accuracy: 0.9173\n",
      "Epoch 44/100\n",
      "28/28 [==============================] - 2s 90ms/step - loss: 0.0456 - sparse_categorical_accuracy: 0.9874 - val_loss: 0.4225 - val_sparse_categorical_accuracy: 0.9173\n",
      "Epoch 45/100\n",
      "28/28 [==============================] - 1s 41ms/step - loss: 0.0542 - sparse_categorical_accuracy: 0.9805 - val_loss: 0.4156 - val_sparse_categorical_accuracy: 0.9333\n",
      "Epoch 46/100\n",
      "28/28 [==============================] - 1s 41ms/step - loss: 0.0445 - sparse_categorical_accuracy: 0.9840 - val_loss: 0.4285 - val_sparse_categorical_accuracy: 0.9040\n",
      "Epoch 47/100\n",
      "28/28 [==============================] - 1s 40ms/step - loss: 0.0542 - sparse_categorical_accuracy: 0.9805 - val_loss: 0.3207 - val_sparse_categorical_accuracy: 0.9307\n",
      "Epoch 48/100\n",
      "28/28 [==============================] - 1s 41ms/step - loss: 0.0500 - sparse_categorical_accuracy: 0.9851 - val_loss: 0.4076 - val_sparse_categorical_accuracy: 0.9120\n",
      "Epoch 49/100\n",
      "28/28 [==============================] - 1s 46ms/step - loss: 0.0328 - sparse_categorical_accuracy: 0.9908 - val_loss: 0.3910 - val_sparse_categorical_accuracy: 0.9253\n",
      "Epoch 50/100\n",
      "28/28 [==============================] - 1s 41ms/step - loss: 0.0420 - sparse_categorical_accuracy: 0.9851 - val_loss: 0.3781 - val_sparse_categorical_accuracy: 0.9200\n",
      "Epoch 51/100\n",
      "28/28 [==============================] - 1s 44ms/step - loss: 0.0273 - sparse_categorical_accuracy: 0.9920 - val_loss: 0.4223 - val_sparse_categorical_accuracy: 0.9093\n",
      "Epoch 52/100\n",
      "28/28 [==============================] - 1s 41ms/step - loss: 0.0300 - sparse_categorical_accuracy: 0.9954 - val_loss: 0.4067 - val_sparse_categorical_accuracy: 0.9200\n",
      "Epoch 53/100\n",
      "28/28 [==============================] - 1s 41ms/step - loss: 0.0252 - sparse_categorical_accuracy: 0.9920 - val_loss: 0.4304 - val_sparse_categorical_accuracy: 0.9200\n",
      "Epoch 54/100\n",
      "28/28 [==============================] - 1s 42ms/step - loss: 0.0293 - sparse_categorical_accuracy: 0.9908 - val_loss: 0.4497 - val_sparse_categorical_accuracy: 0.9227\n",
      "Epoch 55/100\n",
      "28/28 [==============================] - 1s 41ms/step - loss: 0.0480 - sparse_categorical_accuracy: 0.9863 - val_loss: 0.3658 - val_sparse_categorical_accuracy: 0.9227\n",
      "Epoch 56/100\n",
      "28/28 [==============================] - 1s 41ms/step - loss: 0.0216 - sparse_categorical_accuracy: 0.9920 - val_loss: 0.4216 - val_sparse_categorical_accuracy: 0.9200\n",
      "Epoch 57/100\n",
      "28/28 [==============================] - 1s 41ms/step - loss: 0.0493 - sparse_categorical_accuracy: 0.9874 - val_loss: 0.4708 - val_sparse_categorical_accuracy: 0.9040\n",
      "Epoch 58/100\n",
      "28/28 [==============================] - 1s 41ms/step - loss: 0.0319 - sparse_categorical_accuracy: 0.9885 - val_loss: 0.4053 - val_sparse_categorical_accuracy: 0.9200\n",
      "Epoch 59/100\n",
      "28/28 [==============================] - 1s 44ms/step - loss: 0.0585 - sparse_categorical_accuracy: 0.9794 - val_loss: 0.5253 - val_sparse_categorical_accuracy: 0.9067\n",
      "Epoch 60/100\n",
      "28/28 [==============================] - 1s 41ms/step - loss: 0.0734 - sparse_categorical_accuracy: 0.9737 - val_loss: 0.4751 - val_sparse_categorical_accuracy: 0.9067\n"
     ]
    }
   ],
   "source": [
    "es1 = EarlyStopping(patience=20, monitor=\"val_sparse_categorical_accuracy\", mode=\"auto\")\n",
    "es2 = EarlyStopping(patience=20, monitor=\"val_loss\", mode=\"auto\")\n",
    "\n",
    "#The neural network will stop fitting if it gets 20 epochs without converge\n",
    "history = model.fit(x=X_train,\n",
    "                    y=y_train,\n",
    "                    epochs=100,\n",
    "                    validation_split=0.3,\n",
    "                    callbacks=[es1, es2])"
   ]
  },
  {
   "cell_type": "code",
   "execution_count": null,
   "id": "29eb9794",
   "metadata": {
    "execution": {
     "iopub.execute_input": "2024-11-02T10:29:56.961441Z",
     "iopub.status.busy": "2024-11-02T10:29:56.960656Z",
     "iopub.status.idle": "2024-11-02T10:29:56.971819Z",
     "shell.execute_reply": "2024-11-02T10:29:56.972381Z",
     "shell.execute_reply.started": "2024-11-02T10:16:45.542212Z"
    },
    "papermill": {
     "duration": 0.450356,
     "end_time": "2024-11-02T10:29:56.972579",
     "exception": false,
     "start_time": "2024-11-02T10:29:56.522223",
     "status": "completed"
    },
    "tags": []
   },
   "outputs": [
    {
     "name": "stdout",
     "output_type": "stream",
     "text": [
      "Model: \"sequential\"\n",
      "_________________________________________________________________\n",
      "Layer (type)                 Output Shape              Param #   \n",
      "=================================================================\n",
      "conv2d (Conv2D)              (None, 28, 28, 64)        4864      \n",
      "_________________________________________________________________\n",
      "max_pooling2d (MaxPooling2D) (None, 14, 14, 64)        0         \n",
      "_________________________________________________________________\n",
      "batch_normalization (BatchNo (None, 14, 14, 64)        256       \n",
      "_________________________________________________________________\n",
      "conv2d_1 (Conv2D)            (None, 14, 14, 64)        36928     \n",
      "_________________________________________________________________\n",
      "max_pooling2d_1 (MaxPooling2 (None, 7, 7, 64)          0         \n",
      "_________________________________________________________________\n",
      "dropout (Dropout)            (None, 7, 7, 64)          0         \n",
      "_________________________________________________________________\n",
      "batch_normalization_1 (Batch (None, 7, 7, 64)          256       \n",
      "_________________________________________________________________\n",
      "conv2d_2 (Conv2D)            (None, 7, 7, 64)          36928     \n",
      "_________________________________________________________________\n",
      "max_pooling2d_2 (MaxPooling2 (None, 3, 3, 64)          0         \n",
      "_________________________________________________________________\n",
      "dropout_1 (Dropout)          (None, 3, 3, 64)          0         \n",
      "_________________________________________________________________\n",
      "batch_normalization_2 (Batch (None, 3, 3, 64)          256       \n",
      "_________________________________________________________________\n",
      "flatten (Flatten)            (None, 576)               0         \n",
      "_________________________________________________________________\n",
      "dense (Dense)                (None, 576)               332352    \n",
      "_________________________________________________________________\n",
      "dropout_2 (Dropout)          (None, 576)               0         \n",
      "_________________________________________________________________\n",
      "batch_normalization_3 (Batch (None, 576)               2304      \n",
      "_________________________________________________________________\n",
      "dense_1 (Dense)              (None, 288)               166176    \n",
      "_________________________________________________________________\n",
      "dense_2 (Dense)              (None, 26)                7514      \n",
      "=================================================================\n",
      "Total params: 587,834\n",
      "Trainable params: 586,298\n",
      "Non-trainable params: 1,536\n",
      "_________________________________________________________________\n"
     ]
    }
   ],
   "source": [
    "model.summary()"
   ]
  },
  {
   "cell_type": "code",
   "execution_count": null,
   "id": "0d33d4e9",
   "metadata": {
    "execution": {
     "iopub.execute_input": "2024-11-02T10:29:57.851794Z",
     "iopub.status.busy": "2024-11-02T10:29:57.850886Z",
     "iopub.status.idle": "2024-11-02T10:29:57.854239Z",
     "shell.execute_reply": "2024-11-02T10:29:57.853490Z",
     "shell.execute_reply.started": "2024-11-02T10:16:45.561125Z"
    },
    "papermill": {
     "duration": 0.445897,
     "end_time": "2024-11-02T10:29:57.854397",
     "exception": false,
     "start_time": "2024-11-02T10:29:57.408500",
     "status": "completed"
    },
    "tags": []
   },
   "outputs": [],
   "source": [
    "time = np.arange(1, len(history.history['loss'])+1)"
   ]
  },
  {
   "cell_type": "code",
   "execution_count": null,
   "id": "a1683301",
   "metadata": {
    "execution": {
     "iopub.execute_input": "2024-11-02T10:29:58.745048Z",
     "iopub.status.busy": "2024-11-02T10:29:58.743919Z",
     "iopub.status.idle": "2024-11-02T10:30:05.460261Z",
     "shell.execute_reply": "2024-11-02T10:30:05.459592Z",
     "shell.execute_reply.started": "2024-11-02T10:16:45.575891Z"
    },
    "papermill": {
     "duration": 7.167612,
     "end_time": "2024-11-02T10:30:05.460427",
     "exception": false,
     "start_time": "2024-11-02T10:29:58.292815",
     "status": "completed"
    },
    "tags": []
   },
   "outputs": [
    {
     "data": {
      "image/png": "[encoded data removed]",
      "text/plain": [
       "<Figure size 432x288 with 1 Axes>"
      ]
     },
     "metadata": {
      "needs_background": "light"
     },
     "output_type": "display_data"
    }
   ],
   "source": [
    "sns.lineplot(data=history.history, x=time, y='loss')\n",
    "sns.lineplot(data=history.history, x=time, y='val_loss')\n",
    "plt.title('Loss fitting history')\n",
    "plt.legend(labels=['Loss', 'Validation loss'])\n",
    "plt.show()"
   ]
  },
  {
   "cell_type": "code",
   "execution_count": null,
   "id": "ffc8932b",
   "metadata": {
    "execution": {
     "iopub.execute_input": "2024-11-02T10:30:06.372609Z",
     "iopub.status.busy": "2024-11-02T10:30:06.362668Z",
     "iopub.status.idle": "2024-11-02T10:30:06.632993Z",
     "shell.execute_reply": "2024-11-02T10:30:06.633635Z",
     "shell.execute_reply.started": "2024-11-02T10:17:43.645326Z"
    },
    "papermill": {
     "duration": 0.736793,
     "end_time": "2024-11-02T10:30:06.633830",
     "exception": false,
     "start_time": "2024-11-02T10:30:05.897037",
     "status": "completed"
    },
    "tags": []
   },
   "outputs": [
    {
     "data": {
      "image/png": "[encoded data removed]",
      "text/plain": [
       "<Figure size 432x288 with 1 Axes>"
      ]
     },
     "metadata": {
      "needs_background": "light"
     },
     "output_type": "display_data"
    }
   ],
   "source": [
    "sns.lineplot(data=history.history, x=time, y='val_sparse_categorical_accuracy')\n",
    "sns.lineplot(data=history.history, x=time, y='sparse_categorical_accuracy')\n",
    "plt.title('Accuracy fitting history')\n",
    "plt.legend(labels=['Accuracy', 'Valuation accuracy'])\n",
    "plt.show()"
   ]
  },
  {
   "cell_type": "code",
   "execution_count": null,
   "id": "8d3db302",
   "metadata": {
    "execution": {
     "iopub.execute_input": "2024-11-02T10:30:07.546193Z",
     "iopub.status.busy": "2024-11-02T10:30:07.545099Z",
     "iopub.status.idle": "2024-11-02T10:30:08.337521Z",
     "shell.execute_reply": "2024-11-02T10:30:08.336542Z",
     "shell.execute_reply.started": "2024-11-02T10:17:43.949574Z"
    },
    "papermill": {
     "duration": 1.270398,
     "end_time": "2024-11-02T10:30:08.337725",
     "exception": false,
     "start_time": "2024-11-02T10:30:07.067327",
     "status": "completed"
    },
    "tags": []
   },
   "outputs": [
    {
     "name": "stdout",
     "output_type": "stream",
     "text": [
      "Adam Optimizer\n",
      "10/10 [==============================] - 1s 72ms/step - loss: 0.2724 - sparse_categorical_accuracy: 0.9295\n"
     ]
    },
    {
     "data": {
      "text/plain": [
       "[0.27241936326026917, 0.9294871687889099]"
      ]
     },
     "execution_count": 21,
     "metadata": {},
     "output_type": "execute_result"
    }
   ],
   "source": [
    "print(\"Adam Optimizer\")\n",
    "model.evaluate(X_test, y_test)"
   ]
  },
  {
   "cell_type": "markdown",
   "id": "cd3c2ebd",
   "metadata": {
    "papermill": {
     "duration": 0.44194,
     "end_time": "2024-11-02T10:30:09.234977",
     "exception": false,
     "start_time": "2024-11-02T10:30:08.793037",
     "status": "completed"
    },
    "tags": []
   },
   "source": [
    "# Optimization Model 1"
   ]
  },
  {
   "cell_type": "code",
   "execution_count": null,
   "id": "73a1969b",
   "metadata": {
    "execution": {
     "iopub.execute_input": "2024-11-02T10:30:10.119923Z",
     "iopub.status.busy": "2024-11-02T10:30:10.118742Z",
     "iopub.status.idle": "2024-11-02T10:30:24.251374Z",
     "shell.execute_reply": "2024-11-02T10:30:24.250586Z",
     "shell.execute_reply.started": "2024-11-02T10:17:44.183048Z"
    },
    "papermill": {
     "duration": 14.575572,
     "end_time": "2024-11-02T10:30:24.251539",
     "exception": false,
     "start_time": "2024-11-02T10:30:09.675967",
     "status": "completed"
    },
    "tags": []
   },
   "outputs": [
    {
     "name": "stdout",
     "output_type": "stream",
     "text": [
      "Collecting tensorflow-model-optimization\r\n",
      "  Downloading tensorflow_model_optimization-0.8.0-py2.py3-none-any.whl (242 kB)\r\n",
      "     |████████████████████████████████| 242 kB 6.8 MB/s            \r\n",
      "\u001b[?25hRequirement already satisfied: six~=1.14 in /opt/conda/lib/python3.7/site-packages (from tensorflow-model-optimization) (1.16.0)\r\n",
      "Collecting absl-py~=1.2\r\n",
      "  Downloading absl_py-1.4.0-py3-none-any.whl (126 kB)\r\n",
      "     |████████████████████████████████| 126 kB 42.6 MB/s            \r\n",
      "\u001b[?25hCollecting tensorflow-model-optimization\r\n",
      "  Downloading tensorflow_model_optimization-0.7.5-py2.py3-none-any.whl (241 kB)\r\n",
      "     |████████████████████████████████| 241 kB 50.3 MB/s            \r\n",
      "\u001b[?25h  Downloading tensorflow_model_optimization-0.7.4-py2.py3-none-any.whl (240 kB)\r\n",
      "     |████████████████████████████████| 240 kB 53.1 MB/s            \r\n",
      "\u001b[?25h  Downloading tensorflow_model_optimization-0.7.3-py2.py3-none-any.whl (238 kB)\r\n",
      "     |████████████████████████████████| 238 kB 52.3 MB/s            \r\n",
      "\u001b[?25hRequirement already satisfied: numpy~=1.14 in /opt/conda/lib/python3.7/site-packages (from tensorflow-model-optimization) (1.19.5)\r\n",
      "Requirement already satisfied: dm-tree~=0.1.1 in /opt/conda/lib/python3.7/site-packages (from tensorflow-model-optimization) (0.1.6)\r\n",
      "Installing collected packages: tensorflow-model-optimization\r\n",
      "Successfully installed tensorflow-model-optimization-0.7.3\r\n",
      "\u001b[33mWARNING: Running pip as the 'root' user can result in broken permissions and conflicting behaviour with the system package manager. It is recommended to use a virtual environment instead: https://pip.pypa.io/warnings/venv\u001b[0m\r\n"
     ]
    }
   ],
   "source": [
    "!pip install --upgrade tensorflow-model-optimization"
   ]
  },
  {
   "cell_type": "code",
   "execution_count": null,
   "id": "293511f1",
   "metadata": {
    "execution": {
     "iopub.execute_input": "2024-11-02T10:30:25.180821Z",
     "iopub.status.busy": "2024-11-02T10:30:25.180018Z",
     "iopub.status.idle": "2024-11-02T10:30:25.335295Z",
     "shell.execute_reply": "2024-11-02T10:30:25.334434Z",
     "shell.execute_reply.started": "2024-11-02T10:17:57.614403Z"
    },
    "papermill": {
     "duration": 0.628489,
     "end_time": "2024-11-02T10:30:25.335472",
     "exception": false,
     "start_time": "2024-11-02T10:30:24.706983",
     "status": "completed"
    },
    "tags": []
   },
   "outputs": [],
   "source": [
    "import tensorflow_model_optimization as tfmot  # TensorFlow Model Optimization toolkit"
   ]
  },
  {
   "cell_type": "code",
   "execution_count": null,
   "id": "d7c1e131",
   "metadata": {
    "execution": {
     "iopub.execute_input": "2024-11-02T10:30:26.249823Z",
     "iopub.status.busy": "2024-11-02T10:30:26.244222Z",
     "iopub.status.idle": "2024-11-02T10:30:26.318913Z",
     "shell.execute_reply": "2024-11-02T10:30:26.318302Z",
     "shell.execute_reply.started": "2024-11-02T10:17:57.815747Z"
    },
    "papermill": {
     "duration": 0.534481,
     "end_time": "2024-11-02T10:30:26.319081",
     "exception": false,
     "start_time": "2024-11-02T10:30:25.784600",
     "status": "completed"
    },
    "tags": []
   },
   "outputs": [
    {
     "name": "stdout",
     "output_type": "stream",
     "text": [
      "Model size: 6973.26 KB\n"
     ]
    }
   ],
   "source": [
    "# model_save_path = 'cnn_model.h5'\n",
    "model_save_path = 'cnn_model1_braille.keras'\n",
    "model.save(model_save_path)\n",
    "\n",
    "# Get the size of the model in bytes\n",
    "model_size = os.path.getsize(model_save_path)\n",
    "print(f\"Model size: {model_size / 1024:.2f} KB\")"
   ]
  },
  {
   "cell_type": "code",
   "execution_count": null,
   "id": "198f56ed",
   "metadata": {
    "execution": {
     "iopub.execute_input": "2024-11-02T10:30:27.229458Z",
     "iopub.status.busy": "2024-11-02T10:30:27.228276Z",
     "iopub.status.idle": "2024-11-02T10:30:28.470585Z",
     "shell.execute_reply": "2024-11-02T10:30:28.469795Z",
     "shell.execute_reply.started": "2024-11-02T10:17:57.915569Z"
    },
    "papermill": {
     "duration": 1.701546,
     "end_time": "2024-11-02T10:30:28.470749",
     "exception": false,
     "start_time": "2024-11-02T10:30:26.769203",
     "status": "completed"
    },
    "tags": []
   },
   "outputs": [
    {
     "name": "stdout",
     "output_type": "stream",
     "text": [
      "Model: \"sequential\"\n",
      "_________________________________________________________________\n",
      "Layer (type)                 Output Shape              Param #   \n",
      "=================================================================\n",
      "prune_low_magnitude_conv2d ( (None, 28, 28, 64)        9666      \n",
      "_________________________________________________________________\n",
      "prune_low_magnitude_max_pool (None, 14, 14, 64)        1         \n",
      "_________________________________________________________________\n",
      "prune_low_magnitude_batch_no (None, 14, 14, 64)        257       \n",
      "_________________________________________________________________\n",
      "prune_low_magnitude_conv2d_1 (None, 14, 14, 64)        73794     \n",
      "_________________________________________________________________\n",
      "prune_low_magnitude_max_pool (None, 7, 7, 64)          1         \n",
      "_________________________________________________________________\n",
      "prune_low_magnitude_dropout  (None, 7, 7, 64)          1         \n",
      "_________________________________________________________________\n",
      "prune_low_magnitude_batch_no (None, 7, 7, 64)          257       \n",
      "_________________________________________________________________\n",
      "prune_low_magnitude_conv2d_2 (None, 7, 7, 64)          73794     \n",
      "_________________________________________________________________\n",
      "prune_low_magnitude_max_pool (None, 3, 3, 64)          1         \n",
      "_________________________________________________________________\n",
      "prune_low_magnitude_dropout_ (None, 3, 3, 64)          1         \n",
      "_________________________________________________________________\n",
      "prune_low_magnitude_batch_no (None, 3, 3, 64)          257       \n",
      "_________________________________________________________________\n",
      "prune_low_magnitude_flatten  (None, 576)               1         \n",
      "_________________________________________________________________\n",
      "prune_low_magnitude_dense (P (None, 576)               664130    \n",
      "_________________________________________________________________\n",
      "prune_low_magnitude_dropout_ (None, 576)               1         \n",
      "_________________________________________________________________\n",
      "prune_low_magnitude_batch_no (None, 576)               2305      \n",
      "_________________________________________________________________\n",
      "prune_low_magnitude_dense_1  (None, 288)               332066    \n",
      "_________________________________________________________________\n",
      "prune_low_magnitude_dense_2  (None, 26)                15004     \n",
      "=================================================================\n",
      "Total params: 1,171,537\n",
      "Trainable params: 586,298\n",
      "Non-trainable params: 585,239\n",
      "_________________________________________________________________\n"
     ]
    }
   ],
   "source": [
    "prune_low_magnitude = tfmot.sparsity.keras.prune_low_magnitude\n",
    "pruning_params = {\n",
    "      'pruning_schedule': tfmot.sparsity.keras.ConstantSparsity(0.1, begin_step=0, frequency=100)\n",
    "  }\n",
    "\n",
    "pruned_model = prune_low_magnitude(model, **pruning_params)\n",
    "pruned_model.compile(optimizer=\"Adam\", loss=\"SparseCategoricalCrossentropy\", metrics=[\"sparse_categorical_accuracy\"])\n",
    "pruned_model.summary()"
   ]
  },
  {
   "cell_type": "markdown",
   "id": "cae1b48a",
   "metadata": {
    "papermill": {
     "duration": 0.448357,
     "end_time": "2024-11-02T10:30:29.364190",
     "exception": false,
     "start_time": "2024-11-02T10:30:28.915833",
     "status": "completed"
    },
    "tags": []
   },
   "source": [
    "# Pruning"
   ]
  },
  {
   "cell_type": "code",
   "execution_count": null,
   "id": "03270d19",
   "metadata": {
    "execution": {
     "iopub.execute_input": "2024-11-02T10:30:30.268194Z",
     "iopub.status.busy": "2024-11-02T10:30:30.266655Z",
     "iopub.status.idle": "2024-11-02T10:31:18.855745Z",
     "shell.execute_reply": "2024-11-02T10:31:18.856290Z",
     "shell.execute_reply.started": "2024-11-02T10:17:59.014551Z"
    },
    "papermill": {
     "duration": 49.045108,
     "end_time": "2024-11-02T10:31:18.856513",
     "exception": false,
     "start_time": "2024-11-02T10:30:29.811405",
     "status": "completed"
    },
    "tags": []
   },
   "outputs": [
    {
     "name": "stdout",
     "output_type": "stream",
     "text": [
      "Epoch 1/100\n",
      "28/28 [==============================] - 7s 60ms/step - loss: 0.0732 - sparse_categorical_accuracy: 0.9782 - val_loss: 0.6577 - val_sparse_categorical_accuracy: 0.8827\n",
      "Epoch 2/100\n",
      "28/28 [==============================] - 1s 45ms/step - loss: 0.0805 - sparse_categorical_accuracy: 0.9794 - val_loss: 0.6818 - val_sparse_categorical_accuracy: 0.8560\n",
      "Epoch 3/100\n",
      "28/28 [==============================] - 3s 88ms/step - loss: 0.0728 - sparse_categorical_accuracy: 0.9691 - val_loss: 0.3575 - val_sparse_categorical_accuracy: 0.9227\n",
      "Epoch 4/100\n",
      "28/28 [==============================] - 1s 46ms/step - loss: 0.0892 - sparse_categorical_accuracy: 0.9691 - val_loss: 0.4433 - val_sparse_categorical_accuracy: 0.9067\n",
      "Epoch 5/100\n",
      "28/28 [==============================] - 1s 43ms/step - loss: 0.0370 - sparse_categorical_accuracy: 0.9897 - val_loss: 0.3538 - val_sparse_categorical_accuracy: 0.9173\n",
      "Epoch 6/100\n",
      "28/28 [==============================] - 1s 46ms/step - loss: 0.0579 - sparse_categorical_accuracy: 0.9794 - val_loss: 0.3368 - val_sparse_categorical_accuracy: 0.9147\n",
      "Epoch 7/100\n",
      "28/28 [==============================] - 1s 43ms/step - loss: 0.1170 - sparse_categorical_accuracy: 0.9633 - val_loss: 0.6737 - val_sparse_categorical_accuracy: 0.8773\n",
      "Epoch 8/100\n",
      "28/28 [==============================] - 1s 46ms/step - loss: 0.1229 - sparse_categorical_accuracy: 0.9645 - val_loss: 0.5285 - val_sparse_categorical_accuracy: 0.8987\n",
      "Epoch 9/100\n",
      "28/28 [==============================] - 1s 43ms/step - loss: 0.0936 - sparse_categorical_accuracy: 0.9691 - val_loss: 0.4737 - val_sparse_categorical_accuracy: 0.8960\n",
      "Epoch 10/100\n",
      "28/28 [==============================] - 1s 43ms/step - loss: 0.0433 - sparse_categorical_accuracy: 0.9851 - val_loss: 0.9755 - val_sparse_categorical_accuracy: 0.8507\n",
      "Epoch 11/100\n",
      "28/28 [==============================] - 1s 46ms/step - loss: 0.0516 - sparse_categorical_accuracy: 0.9897 - val_loss: 0.3606 - val_sparse_categorical_accuracy: 0.9307\n",
      "Epoch 12/100\n",
      "28/28 [==============================] - 1s 42ms/step - loss: 0.0325 - sparse_categorical_accuracy: 0.9897 - val_loss: 0.3093 - val_sparse_categorical_accuracy: 0.9387\n",
      "Epoch 13/100\n",
      "28/28 [==============================] - 1s 42ms/step - loss: 0.0497 - sparse_categorical_accuracy: 0.9897 - val_loss: 0.7507 - val_sparse_categorical_accuracy: 0.8427\n",
      "Epoch 14/100\n",
      "28/28 [==============================] - 1s 45ms/step - loss: 0.0275 - sparse_categorical_accuracy: 0.9943 - val_loss: 0.4633 - val_sparse_categorical_accuracy: 0.8987\n",
      "Epoch 15/100\n",
      "28/28 [==============================] - 1s 45ms/step - loss: 0.0320 - sparse_categorical_accuracy: 0.9851 - val_loss: 0.7687 - val_sparse_categorical_accuracy: 0.8507\n",
      "Epoch 16/100\n",
      "28/28 [==============================] - 1s 43ms/step - loss: 0.0367 - sparse_categorical_accuracy: 0.9874 - val_loss: 0.4303 - val_sparse_categorical_accuracy: 0.9173\n",
      "Epoch 17/100\n",
      "28/28 [==============================] - 1s 43ms/step - loss: 0.0371 - sparse_categorical_accuracy: 0.9885 - val_loss: 0.4068 - val_sparse_categorical_accuracy: 0.9227\n",
      "Epoch 18/100\n",
      "28/28 [==============================] - 1s 46ms/step - loss: 0.0835 - sparse_categorical_accuracy: 0.9794 - val_loss: 0.4200 - val_sparse_categorical_accuracy: 0.9147\n",
      "Epoch 19/100\n",
      "28/28 [==============================] - 1s 51ms/step - loss: 0.0354 - sparse_categorical_accuracy: 0.9874 - val_loss: 0.5274 - val_sparse_categorical_accuracy: 0.9093\n",
      "Epoch 20/100\n",
      "28/28 [==============================] - 1s 44ms/step - loss: 0.0252 - sparse_categorical_accuracy: 0.9897 - val_loss: 0.4204 - val_sparse_categorical_accuracy: 0.9280\n",
      "Epoch 21/100\n",
      "28/28 [==============================] - 1s 43ms/step - loss: 0.0265 - sparse_categorical_accuracy: 0.9874 - val_loss: 0.4037 - val_sparse_categorical_accuracy: 0.9253\n",
      "Epoch 22/100\n",
      "28/28 [==============================] - 1s 48ms/step - loss: 0.0253 - sparse_categorical_accuracy: 0.9920 - val_loss: 0.4975 - val_sparse_categorical_accuracy: 0.9067\n",
      "Epoch 23/100\n",
      "28/28 [==============================] - 1s 43ms/step - loss: 0.0230 - sparse_categorical_accuracy: 0.9885 - val_loss: 0.5182 - val_sparse_categorical_accuracy: 0.9173\n",
      "Epoch 24/100\n",
      "28/28 [==============================] - 1s 43ms/step - loss: 0.0262 - sparse_categorical_accuracy: 0.9920 - val_loss: 0.3559 - val_sparse_categorical_accuracy: 0.9333\n",
      "Epoch 25/100\n",
      "28/28 [==============================] - 1s 45ms/step - loss: 0.0350 - sparse_categorical_accuracy: 0.9863 - val_loss: 0.3742 - val_sparse_categorical_accuracy: 0.9280\n",
      "Epoch 26/100\n",
      "28/28 [==============================] - 1s 43ms/step - loss: 0.0328 - sparse_categorical_accuracy: 0.9840 - val_loss: 0.4569 - val_sparse_categorical_accuracy: 0.9147\n",
      "Epoch 27/100\n",
      "28/28 [==============================] - 2s 91ms/step - loss: 0.0272 - sparse_categorical_accuracy: 0.9943 - val_loss: 0.3794 - val_sparse_categorical_accuracy: 0.9147\n",
      "Epoch 28/100\n",
      "28/28 [==============================] - 1s 43ms/step - loss: 0.0206 - sparse_categorical_accuracy: 0.9920 - val_loss: 0.4222 - val_sparse_categorical_accuracy: 0.9093\n",
      "Epoch 29/100\n",
      "28/28 [==============================] - 1s 48ms/step - loss: 0.0144 - sparse_categorical_accuracy: 0.9943 - val_loss: 0.3522 - val_sparse_categorical_accuracy: 0.9253\n",
      "Epoch 30/100\n",
      "28/28 [==============================] - 1s 43ms/step - loss: 0.0251 - sparse_categorical_accuracy: 0.9920 - val_loss: 0.3251 - val_sparse_categorical_accuracy: 0.9280\n",
      "Epoch 31/100\n",
      "28/28 [==============================] - 1s 43ms/step - loss: 0.0177 - sparse_categorical_accuracy: 0.9920 - val_loss: 0.3174 - val_sparse_categorical_accuracy: 0.9360\n",
      "Epoch 32/100\n",
      "28/28 [==============================] - 1s 43ms/step - loss: 0.0492 - sparse_categorical_accuracy: 0.9885 - val_loss: 0.3542 - val_sparse_categorical_accuracy: 0.9253\n",
      "Total time: 48.59 seconds\n"
     ]
    }
   ],
   "source": [
    "import time\n",
    "start_pruning_time = time.time()\n",
    "\n",
    "# Train the model\n",
    "history = pruned_model.fit(x=X_train,\n",
    "                    y=y_train,\n",
    "                    epochs=100,\n",
    "                    validation_split=0.3,\n",
    "                    callbacks=[es1, es2, tfmot.sparsity.keras.UpdatePruningStep()])\n",
    "\n",
    "end_time = time.time()\n",
    "total_time = end_time - start_pruning_time \n",
    "print(f\"Total time: {total_time:.2f} seconds\")"
   ]
  },
  {
   "cell_type": "markdown",
   "id": "8c968493",
   "metadata": {
    "papermill": {
     "duration": 0.646082,
     "end_time": "2024-11-02T10:31:20.151442",
     "exception": false,
     "start_time": "2024-11-02T10:31:19.505360",
     "status": "completed"
    },
    "tags": []
   },
   "source": [
    "# Evaluate the model with testing data"
   ]
  },
  {
   "cell_type": "code",
   "execution_count": null,
   "id": "76c071ac",
   "metadata": {
    "execution": {
     "iopub.execute_input": "2024-11-02T10:31:21.455969Z",
     "iopub.status.busy": "2024-11-02T10:31:21.455208Z",
     "iopub.status.idle": "2024-11-02T10:31:21.658389Z",
     "shell.execute_reply": "2024-11-02T10:31:21.658975Z",
     "shell.execute_reply.started": "2024-11-02T10:19:16.052449Z"
    },
    "papermill": {
     "duration": 0.856576,
     "end_time": "2024-11-02T10:31:21.659216",
     "exception": false,
     "start_time": "2024-11-02T10:31:20.802640",
     "status": "completed"
    },
    "tags": []
   },
   "outputs": [
    {
     "name": "stdout",
     "output_type": "stream",
     "text": [
      "10/10 [==============================] - 0s 13ms/step - loss: 0.2362 - sparse_categorical_accuracy: 0.9455\n",
      "Test accuracy: 0.9455128312110901\n"
     ]
    }
   ],
   "source": [
    "# Evaluate the model on the test data\n",
    "pruned_test_loss, pruned_test_acc = pruned_model.evaluate(X_test, y_test)\n",
    "\n",
    "print(f\"Test accuracy: {pruned_test_acc}\")"
   ]
  },
  {
   "cell_type": "code",
   "execution_count": null,
   "id": "fb354cb0",
   "metadata": {
    "execution": {
     "iopub.execute_input": "2024-11-02T10:31:23.055319Z",
     "iopub.status.busy": "2024-11-02T10:31:23.054207Z",
     "iopub.status.idle": "2024-11-02T10:31:23.136771Z",
     "shell.execute_reply": "2024-11-02T10:31:23.135988Z",
     "shell.execute_reply.started": "2024-11-02T10:19:16.269118Z"
    },
    "papermill": {
     "duration": 0.826368,
     "end_time": "2024-11-02T10:31:23.136950",
     "exception": false,
     "start_time": "2024-11-02T10:31:22.310582",
     "status": "completed"
    },
    "tags": []
   },
   "outputs": [
    {
     "name": "stdout",
     "output_type": "stream",
     "text": [
      "Model size after pruning: 9294.54 KB\n"
     ]
    }
   ],
   "source": [
    "model_save_path = 'cnn_pruned_model1_braille.keras'\n",
    "pruned_model.save(model_save_path)\n",
    "\n",
    "# Get the size of the model in bytes\n",
    "model_size = os.path.getsize(model_save_path)\n",
    "print(f\"Model size after pruning: {model_size / 1024:.2f} KB\")"
   ]
  },
  {
   "cell_type": "code",
   "execution_count": null,
   "id": "7503051f",
   "metadata": {
    "execution": {
     "iopub.execute_input": "2024-11-02T10:31:24.447353Z",
     "iopub.status.busy": "2024-11-02T10:31:24.446534Z",
     "iopub.status.idle": "2024-11-02T10:31:28.152077Z",
     "shell.execute_reply": "2024-11-02T10:31:28.151341Z",
     "shell.execute_reply.started": "2024-11-02T10:19:16.368503Z"
    },
    "papermill": {
     "duration": 4.361173,
     "end_time": "2024-11-02T10:31:28.152262",
     "exception": false,
     "start_time": "2024-11-02T10:31:23.791089",
     "status": "completed"
    },
    "tags": []
   },
   "outputs": [
    {
     "name": "stdout",
     "output_type": "stream",
     "text": [
      "Model size after pruning + convert to tf lite: 2291.84 KB\n"
     ]
    }
   ],
   "source": [
    "model_for_export = tfmot.sparsity.keras.strip_pruning(pruned_model)\n",
    "converter = tf.lite.TFLiteConverter.from_keras_model(model_for_export)\n",
    "tflite_model = converter.convert()\n",
    "\n",
    "# Save the TFLite model to a file\n",
    "model_save_path = 'pruned_model1_braille.tflite'\n",
    "with open(model_save_path, 'wb') as f:\n",
    "    f.write(tflite_model)\n",
    "\n",
    "model_size = os.path.getsize(model_save_path)\n",
    "print(f\"Model size after pruning + convert to tf lite: {model_size / 1024:.2f} KB\")"
   ]
  },
  {
   "cell_type": "markdown",
   "id": "69035249",
   "metadata": {
    "papermill": {
     "duration": 0.652005,
     "end_time": "2024-11-02T10:31:29.458405",
     "exception": false,
     "start_time": "2024-11-02T10:31:28.806400",
     "status": "completed"
    },
    "tags": []
   },
   "source": [
    "# Post Training Quantization"
   ]
  },
  {
   "cell_type": "code",
   "execution_count": null,
   "id": "6b0284b2",
   "metadata": {
    "execution": {
     "iopub.execute_input": "2024-11-02T10:31:30.770085Z",
     "iopub.status.busy": "2024-11-02T10:31:30.769329Z",
     "iopub.status.idle": "2024-11-02T10:31:30.873872Z",
     "shell.execute_reply": "2024-11-02T10:31:30.874468Z",
     "shell.execute_reply.started": "2024-11-02T10:19:20.205627Z"
    },
    "papermill": {
     "duration": 0.764667,
     "end_time": "2024-11-02T10:31:30.874667",
     "exception": false,
     "start_time": "2024-11-02T10:31:30.110000",
     "status": "completed"
    },
    "tags": []
   },
   "outputs": [
    {
     "name": "stdout",
     "output_type": "stream",
     "text": [
      "Model: \"sequential\"\n",
      "_________________________________________________________________\n",
      "Layer (type)                 Output Shape              Param #   \n",
      "=================================================================\n",
      "conv2d (Conv2D)              (None, 28, 28, 64)        4864      \n",
      "_________________________________________________________________\n",
      "max_pooling2d (MaxPooling2D) (None, 14, 14, 64)        0         \n",
      "_________________________________________________________________\n",
      "batch_normalization (BatchNo (None, 14, 14, 64)        256       \n",
      "_________________________________________________________________\n",
      "conv2d_1 (Conv2D)            (None, 14, 14, 64)        36928     \n",
      "_________________________________________________________________\n",
      "max_pooling2d_1 (MaxPooling2 (None, 7, 7, 64)          0         \n",
      "_________________________________________________________________\n",
      "dropout (Dropout)            (None, 7, 7, 64)          0         \n",
      "_________________________________________________________________\n",
      "batch_normalization_1 (Batch (None, 7, 7, 64)          256       \n",
      "_________________________________________________________________\n",
      "conv2d_2 (Conv2D)            (None, 7, 7, 64)          36928     \n",
      "_________________________________________________________________\n",
      "max_pooling2d_2 (MaxPooling2 (None, 3, 3, 64)          0         \n",
      "_________________________________________________________________\n",
      "dropout_1 (Dropout)          (None, 3, 3, 64)          0         \n",
      "_________________________________________________________________\n",
      "batch_normalization_2 (Batch (None, 3, 3, 64)          256       \n",
      "_________________________________________________________________\n",
      "flatten (Flatten)            (None, 576)               0         \n",
      "_________________________________________________________________\n",
      "dense (Dense)                (None, 576)               332352    \n",
      "_________________________________________________________________\n",
      "dropout_2 (Dropout)          (None, 576)               0         \n",
      "_________________________________________________________________\n",
      "batch_normalization_3 (Batch (None, 576)               2304      \n",
      "_________________________________________________________________\n",
      "dense_1 (Dense)              (None, 288)               166176    \n",
      "_________________________________________________________________\n",
      "dense_2 (Dense)              (None, 26)                7514      \n",
      "=================================================================\n",
      "Total params: 587,834\n",
      "Trainable params: 586,298\n",
      "Non-trainable params: 1,536\n",
      "_________________________________________________________________\n"
     ]
    }
   ],
   "source": [
    "# Strip the pruning wrappers to finalize the pruned model\n",
    "final_model = tfmot.sparsity.keras.strip_pruning(pruned_model)\n",
    "final_model.summary()"
   ]
  },
  {
   "cell_type": "code",
   "execution_count": null,
   "id": "cd2183dd",
   "metadata": {
    "execution": {
     "iopub.execute_input": "2024-11-02T10:31:32.192078Z",
     "iopub.status.busy": "2024-11-02T10:31:32.190963Z",
     "iopub.status.idle": "2024-11-02T10:31:35.502729Z",
     "shell.execute_reply": "2024-11-02T10:31:35.501780Z",
     "shell.execute_reply.started": "2024-11-02T10:19:20.320116Z"
    },
    "papermill": {
     "duration": 3.975967,
     "end_time": "2024-11-02T10:31:35.502899",
     "exception": false,
     "start_time": "2024-11-02T10:31:31.526932",
     "status": "completed"
    },
    "tags": []
   },
   "outputs": [],
   "source": [
    "# Convert to TensorFlow Lite model with quantization\n",
    "converter = tf.lite.TFLiteConverter.from_keras_model(final_model)\n",
    "\n",
    "# Set quantization parameters\n",
    "converter.optimizations = [tf.lite.Optimize.DEFAULT]  # Default optimization includes quantization\n",
    "\n",
    "# Optionally, if you have representative data, you can enable full integer quantization:\n",
    "# Provide a representative dataset for better accuracy in quantization\n",
    "def representative_dataset():\n",
    "    for data in X_test.take(100):  # use a small sample of your data <<< what if we change this to 1000? to all data? 70rb? how?\n",
    "        yield [tf.dtypes.cast(data, tf.float32)] # can we change this to integer?\n",
    "\n",
    "converter.representative_dataset = representative_dataset\n",
    "converter.target_spec.supported_types = [tf.float16]  # This can be int8 as well, hm... << nope, error\n",
    "\n",
    "# Convert the model\n",
    "quantized_tflite_model = converter.convert()\n",
    "\n",
    "# Save the quantized model to a file\n",
    "with open('quantized_pruned_model1_braille.tflite', 'wb') as f:\n",
    "    f.write(quantized_tflite_model)\n",
    "\n",
    "# To load and use the TFLite model later:\n",
    "interpreter = tf.lite.Interpreter(model_path='quantized_pruned_model1_braille.tflite')\n",
    "interpreter.allocate_tensors()"
   ]
  },
  {
   "cell_type": "code",
   "execution_count": null,
   "id": "03664c4b",
   "metadata": {
    "execution": {
     "iopub.execute_input": "2024-11-02T10:31:36.814270Z",
     "iopub.status.busy": "2024-11-02T10:31:36.813433Z",
     "iopub.status.idle": "2024-11-02T10:31:36.819374Z",
     "shell.execute_reply": "2024-11-02T10:31:36.818645Z",
     "shell.execute_reply.started": "2024-11-02T10:19:24.267735Z"
    },
    "papermill": {
     "duration": 0.666079,
     "end_time": "2024-11-02T10:31:36.819543",
     "exception": false,
     "start_time": "2024-11-02T10:31:36.153464",
     "status": "completed"
    },
    "tags": []
   },
   "outputs": [],
   "source": [
    "final_model.compile(optimizer=\"Adam\", loss=\"SparseCategoricalCrossentropy\", metrics=[\"sparse_categorical_accuracy\"])"
   ]
  },
  {
   "cell_type": "code",
   "execution_count": null,
   "id": "eafc4f51",
   "metadata": {
    "execution": {
     "iopub.execute_input": "2024-11-02T10:31:38.130628Z",
     "iopub.status.busy": "2024-11-02T10:31:38.129228Z",
     "iopub.status.idle": "2024-11-02T10:32:21.292565Z",
     "shell.execute_reply": "2024-11-02T10:32:21.291918Z",
     "shell.execute_reply.started": "2024-11-02T10:19:24.283195Z"
    },
    "papermill": {
     "duration": 43.821831,
     "end_time": "2024-11-02T10:32:21.292738",
     "exception": false,
     "start_time": "2024-11-02T10:31:37.470907",
     "status": "completed"
    },
    "tags": []
   },
   "outputs": [
    {
     "name": "stdout",
     "output_type": "stream",
     "text": [
      "Epoch 1/100\n",
      "28/28 [==============================] - 3s 52ms/step - loss: 0.0341 - sparse_categorical_accuracy: 0.9931 - val_loss: 0.4248 - val_sparse_categorical_accuracy: 0.9067\n",
      "Epoch 2/100\n",
      "28/28 [==============================] - 1s 42ms/step - loss: 0.0337 - sparse_categorical_accuracy: 0.9897 - val_loss: 0.5837 - val_sparse_categorical_accuracy: 0.9120\n",
      "Epoch 3/100\n",
      "28/28 [==============================] - 3s 91ms/step - loss: 0.0419 - sparse_categorical_accuracy: 0.9851 - val_loss: 0.5047 - val_sparse_categorical_accuracy: 0.9040\n",
      "Epoch 4/100\n",
      "28/28 [==============================] - 1s 43ms/step - loss: 0.0354 - sparse_categorical_accuracy: 0.9897 - val_loss: 0.4977 - val_sparse_categorical_accuracy: 0.9120\n",
      "Epoch 5/100\n",
      "28/28 [==============================] - 1s 42ms/step - loss: 0.0519 - sparse_categorical_accuracy: 0.9897 - val_loss: 0.4388 - val_sparse_categorical_accuracy: 0.9307\n",
      "Epoch 6/100\n",
      "28/28 [==============================] - 1s 41ms/step - loss: 0.0901 - sparse_categorical_accuracy: 0.9771 - val_loss: 1.0489 - val_sparse_categorical_accuracy: 0.8587\n",
      "Epoch 7/100\n",
      "28/28 [==============================] - 1s 42ms/step - loss: 0.0929 - sparse_categorical_accuracy: 0.9782 - val_loss: 0.5540 - val_sparse_categorical_accuracy: 0.9147\n",
      "Epoch 8/100\n",
      "28/28 [==============================] - 1s 42ms/step - loss: 0.0666 - sparse_categorical_accuracy: 0.9748 - val_loss: 0.7206 - val_sparse_categorical_accuracy: 0.8800\n",
      "Epoch 9/100\n",
      "28/28 [==============================] - 1s 41ms/step - loss: 0.0760 - sparse_categorical_accuracy: 0.9794 - val_loss: 1.0078 - val_sparse_categorical_accuracy: 0.8613\n",
      "Epoch 10/100\n",
      "28/28 [==============================] - 1s 41ms/step - loss: 0.0591 - sparse_categorical_accuracy: 0.9805 - val_loss: 0.5934 - val_sparse_categorical_accuracy: 0.8747\n",
      "Epoch 11/100\n",
      "28/28 [==============================] - 1s 41ms/step - loss: 0.0474 - sparse_categorical_accuracy: 0.9885 - val_loss: 0.4350 - val_sparse_categorical_accuracy: 0.9253\n",
      "Epoch 12/100\n",
      "28/28 [==============================] - 1s 44ms/step - loss: 0.0588 - sparse_categorical_accuracy: 0.9863 - val_loss: 0.5322 - val_sparse_categorical_accuracy: 0.9280\n",
      "Epoch 13/100\n",
      "28/28 [==============================] - 1s 41ms/step - loss: 0.0291 - sparse_categorical_accuracy: 0.9897 - val_loss: 0.3910 - val_sparse_categorical_accuracy: 0.9333\n",
      "Epoch 14/100\n",
      "28/28 [==============================] - 1s 41ms/step - loss: 0.0360 - sparse_categorical_accuracy: 0.9897 - val_loss: 0.3424 - val_sparse_categorical_accuracy: 0.9200\n",
      "Epoch 15/100\n",
      "28/28 [==============================] - 1s 41ms/step - loss: 0.0344 - sparse_categorical_accuracy: 0.9885 - val_loss: 0.4669 - val_sparse_categorical_accuracy: 0.9280\n",
      "Epoch 16/100\n",
      "28/28 [==============================] - 1s 41ms/step - loss: 0.0217 - sparse_categorical_accuracy: 0.9943 - val_loss: 0.4256 - val_sparse_categorical_accuracy: 0.9200\n",
      "Epoch 17/100\n",
      "28/28 [==============================] - 1s 41ms/step - loss: 0.0923 - sparse_categorical_accuracy: 0.9748 - val_loss: 0.4234 - val_sparse_categorical_accuracy: 0.9307\n",
      "Epoch 18/100\n",
      "28/28 [==============================] - 1s 41ms/step - loss: 0.0792 - sparse_categorical_accuracy: 0.9737 - val_loss: 0.4633 - val_sparse_categorical_accuracy: 0.9120\n",
      "Epoch 19/100\n",
      "28/28 [==============================] - 1s 41ms/step - loss: 0.0825 - sparse_categorical_accuracy: 0.9771 - val_loss: 1.0124 - val_sparse_categorical_accuracy: 0.8720\n",
      "Epoch 20/100\n",
      "28/28 [==============================] - 1s 41ms/step - loss: 0.0452 - sparse_categorical_accuracy: 0.9851 - val_loss: 0.9734 - val_sparse_categorical_accuracy: 0.8853\n",
      "Epoch 21/100\n",
      "28/28 [==============================] - 1s 44ms/step - loss: 0.0641 - sparse_categorical_accuracy: 0.9851 - val_loss: 0.5831 - val_sparse_categorical_accuracy: 0.8907\n",
      "Epoch 22/100\n",
      "28/28 [==============================] - 1s 41ms/step - loss: 0.0968 - sparse_categorical_accuracy: 0.9794 - val_loss: 0.4416 - val_sparse_categorical_accuracy: 0.9280\n",
      "Epoch 23/100\n",
      "28/28 [==============================] - 1s 41ms/step - loss: 0.0457 - sparse_categorical_accuracy: 0.9851 - val_loss: 0.6013 - val_sparse_categorical_accuracy: 0.9147\n",
      "Epoch 24/100\n",
      "28/28 [==============================] - 2s 53ms/step - loss: 0.0439 - sparse_categorical_accuracy: 0.9851 - val_loss: 0.3950 - val_sparse_categorical_accuracy: 0.9227\n",
      "Epoch 25/100\n",
      "28/28 [==============================] - 1s 43ms/step - loss: 0.0468 - sparse_categorical_accuracy: 0.9874 - val_loss: 0.5695 - val_sparse_categorical_accuracy: 0.9200\n",
      "Epoch 26/100\n",
      "28/28 [==============================] - 1s 40ms/step - loss: 0.0228 - sparse_categorical_accuracy: 0.9920 - val_loss: 0.5282 - val_sparse_categorical_accuracy: 0.9280\n",
      "Epoch 27/100\n",
      "28/28 [==============================] - 1s 40ms/step - loss: 0.0560 - sparse_categorical_accuracy: 0.9794 - val_loss: 1.5913 - val_sparse_categorical_accuracy: 0.8000\n",
      "Epoch 28/100\n",
      "28/28 [==============================] - 1s 40ms/step - loss: 0.0542 - sparse_categorical_accuracy: 0.9817 - val_loss: 0.9988 - val_sparse_categorical_accuracy: 0.8773\n",
      "Epoch 29/100\n",
      "28/28 [==============================] - 2s 91ms/step - loss: 0.0427 - sparse_categorical_accuracy: 0.9897 - val_loss: 0.6482 - val_sparse_categorical_accuracy: 0.8907\n",
      "Epoch 30/100\n",
      "28/28 [==============================] - 1s 41ms/step - loss: 0.0463 - sparse_categorical_accuracy: 0.9782 - val_loss: 0.5502 - val_sparse_categorical_accuracy: 0.9173\n",
      "Epoch 31/100\n",
      "28/28 [==============================] - 1s 41ms/step - loss: 0.0346 - sparse_categorical_accuracy: 0.9920 - val_loss: 0.6952 - val_sparse_categorical_accuracy: 0.9093\n",
      "Epoch 32/100\n",
      "28/28 [==============================] - 1s 41ms/step - loss: 0.0195 - sparse_categorical_accuracy: 0.9908 - val_loss: 0.3754 - val_sparse_categorical_accuracy: 0.9333\n",
      "Epoch 33/100\n",
      "28/28 [==============================] - 1s 41ms/step - loss: 0.0383 - sparse_categorical_accuracy: 0.9863 - val_loss: 0.4098 - val_sparse_categorical_accuracy: 0.9147\n",
      "Total time: 43.16 seconds\n"
     ]
    }
   ],
   "source": [
    "start_quantization_time = time.time()\n",
    "\n",
    "history = final_model.fit(x=X_train,\n",
    "                    y=y_train,\n",
    "                    epochs=100,\n",
    "                    validation_split=0.3,\n",
    "                    callbacks=[es1, es2, tfmot.sparsity.keras.UpdatePruningStep()])\n",
    "\n",
    "end_time = time.time()\n",
    "total_time = end_time - start_quantization_time \n",
    "print(f\"Total time: {total_time:.2f} seconds\")"
   ]
  },
  {
   "cell_type": "code",
   "execution_count": null,
   "id": "c3ec10be",
   "metadata": {
    "execution": {
     "iopub.execute_input": "2024-11-02T10:32:23.024356Z",
     "iopub.status.busy": "2024-11-02T10:32:23.023550Z",
     "iopub.status.idle": "2024-11-02T10:32:23.026822Z",
     "shell.execute_reply": "2024-11-02T10:32:23.027394Z",
     "shell.execute_reply.started": "2024-11-02T10:20:08.941178Z"
    },
    "papermill": {
     "duration": 0.871497,
     "end_time": "2024-11-02T10:32:23.027579",
     "exception": false,
     "start_time": "2024-11-02T10:32:22.156082",
     "status": "completed"
    },
    "tags": []
   },
   "outputs": [
    {
     "name": "stdout",
     "output_type": "stream",
     "text": [
      "Model size after quantization: 1151.78 KB\n"
     ]
    }
   ],
   "source": [
    "model_size = os.path.getsize('quantized_pruned_model1_braille.tflite')\n",
    "print(f\"Model size after quantization: {model_size / 1024:.2f} KB\")"
   ]
  },
  {
   "cell_type": "code",
   "execution_count": null,
   "id": "353776c4",
   "metadata": {
    "execution": {
     "iopub.execute_input": "2024-11-02T10:32:24.758960Z",
     "iopub.status.busy": "2024-11-02T10:32:24.757590Z",
     "iopub.status.idle": "2024-11-02T10:32:24.975177Z",
     "shell.execute_reply": "2024-11-02T10:32:24.974563Z",
     "shell.execute_reply.started": "2024-11-02T10:20:08.949246Z"
    },
    "papermill": {
     "duration": 1.086313,
     "end_time": "2024-11-02T10:32:24.975348",
     "exception": false,
     "start_time": "2024-11-02T10:32:23.889035",
     "status": "completed"
    },
    "tags": []
   },
   "outputs": [
    {
     "name": "stdout",
     "output_type": "stream",
     "text": [
      "10/10 [==============================] - 0s 12ms/step - loss: 0.2969 - sparse_categorical_accuracy: 0.9295\n",
      "Test accuracy: 0.9294871687889099\n"
     ]
    }
   ],
   "source": [
    "# Evaluate the model on the test data\n",
    "final_test_loss, final_test_acc = final_model.evaluate(X_test, y_test)\n",
    "\n",
    "print(f\"Test accuracy: {final_test_acc}\")"
   ]
  },
  {
   "cell_type": "markdown",
   "id": "684d2fc6",
   "metadata": {
    "papermill": {
     "duration": 0.855188,
     "end_time": "2024-11-02T10:32:26.692172",
     "exception": false,
     "start_time": "2024-11-02T10:32:25.836984",
     "status": "completed"
    },
    "tags": []
   },
   "source": [
    "# Creating model: Trial 2: RMS Prop"
   ]
  },
  {
   "cell_type": "code",
   "execution_count": null,
   "id": "4d4d4634",
   "metadata": {
    "execution": {
     "iopub.execute_input": "2024-11-02T10:32:28.494237Z",
     "iopub.status.busy": "2024-11-02T10:32:28.493057Z",
     "iopub.status.idle": "2024-11-02T10:32:28.501926Z",
     "shell.execute_reply": "2024-11-02T10:32:28.501316Z",
     "shell.execute_reply.started": "2024-11-02T10:20:09.171075Z"
    },
    "papermill": {
     "duration": 0.947056,
     "end_time": "2024-11-02T10:32:28.502082",
     "exception": false,
     "start_time": "2024-11-02T10:32:27.555026",
     "status": "completed"
    },
    "tags": []
   },
   "outputs": [],
   "source": [
    "model = keras.Sequential([\n",
    "    keras.layers.Conv2D(filters=64, kernel_size=(5, 5), padding='same', activation='relu'),\n",
    "    keras.layers.MaxPooling2D(pool_size=(2,2)),\n",
    "    keras.layers.BatchNormalization(),\n",
    "\n",
    "    keras.layers.Conv2D(filters=64, kernel_size=(3, 3), padding='same', activation='relu'),\n",
    "    keras.layers.MaxPooling2D(pool_size=(2,2)),\n",
    "    keras.layers.Dropout(0.25),   \n",
    "    keras.layers.BatchNormalization(),\n",
    "\n",
    "    keras.layers.Conv2D(filters=64, kernel_size=(3, 3), padding='same', activation='relu'),\n",
    "    keras.layers.MaxPooling2D(pool_size=(2,2)),\n",
    "    keras.layers.Dropout(0.25),   \n",
    "    keras.layers.BatchNormalization(),\n",
    "\n",
    "    keras.layers.Flatten(),\n",
    "    \n",
    "    keras.layers.Dense(units=576, activation=\"relu\"),\n",
    "    keras.layers.Dropout(0.25),\n",
    "    keras.layers.BatchNormalization(),\n",
    "\n",
    "    keras.layers.Dense(units=288, activation=\"relu\"),\n",
    "    keras.layers.Dense(units=26, activation=\"softmax\") #output layer\n",
    "])"
   ]
  },
  {
   "cell_type": "code",
   "execution_count": null,
   "id": "1ebfc5bc",
   "metadata": {
    "execution": {
     "iopub.execute_input": "2024-11-02T10:32:30.231673Z",
     "iopub.status.busy": "2024-11-02T10:32:30.230870Z",
     "iopub.status.idle": "2024-11-02T10:32:30.236071Z",
     "shell.execute_reply": "2024-11-02T10:32:30.235342Z",
     "shell.execute_reply.started": "2024-11-02T10:20:09.208606Z"
    },
    "papermill": {
     "duration": 0.871516,
     "end_time": "2024-11-02T10:32:30.236244",
     "exception": false,
     "start_time": "2024-11-02T10:32:29.364728",
     "status": "completed"
    },
    "tags": []
   },
   "outputs": [],
   "source": [
    "model.compile(optimizer=\"RMSprop\", loss=\"SparseCategoricalCrossentropy\", metrics=[\"sparse_categorical_accuracy\"])"
   ]
  },
  {
   "cell_type": "code",
   "execution_count": null,
   "id": "2cc988c6",
   "metadata": {
    "execution": {
     "iopub.execute_input": "2024-11-02T10:32:31.960779Z",
     "iopub.status.busy": "2024-11-02T10:32:31.960034Z",
     "iopub.status.idle": "2024-11-02T10:32:31.963461Z",
     "shell.execute_reply": "2024-11-02T10:32:31.962714Z",
     "shell.execute_reply.started": "2024-11-02T10:20:09.226033Z"
    },
    "papermill": {
     "duration": 0.868351,
     "end_time": "2024-11-02T10:32:31.963632",
     "exception": false,
     "start_time": "2024-11-02T10:32:31.095281",
     "status": "completed"
    },
    "tags": []
   },
   "outputs": [],
   "source": [
    "from keras.callbacks import EarlyStopping"
   ]
  },
  {
   "cell_type": "code",
   "execution_count": null,
   "id": "bb246517",
   "metadata": {
    "execution": {
     "iopub.execute_input": "2024-11-02T10:32:33.687096Z",
     "iopub.status.busy": "2024-11-02T10:32:33.686307Z",
     "iopub.status.idle": "2024-11-02T10:33:49.515441Z",
     "shell.execute_reply": "2024-11-02T10:33:49.516046Z",
     "shell.execute_reply.started": "2024-11-02T10:20:09.239328Z"
    },
    "papermill": {
     "duration": 76.69593,
     "end_time": "2024-11-02T10:33:49.516266",
     "exception": false,
     "start_time": "2024-11-02T10:32:32.820336",
     "status": "completed"
    },
    "tags": []
   },
   "outputs": [
    {
     "name": "stdout",
     "output_type": "stream",
     "text": [
      "Epoch 1/100\n",
      "28/28 [==============================] - 3s 54ms/step - loss: 2.8577 - sparse_categorical_accuracy: 0.2211 - val_loss: 3.3785 - val_sparse_categorical_accuracy: 0.0427\n",
      "Epoch 2/100\n",
      "28/28 [==============================] - 1s 43ms/step - loss: 1.7236 - sparse_categorical_accuracy: 0.5017 - val_loss: 4.2260 - val_sparse_categorical_accuracy: 0.0347\n",
      "Epoch 3/100\n",
      "28/28 [==============================] - 1s 44ms/step - loss: 1.2328 - sparse_categorical_accuracy: 0.6460 - val_loss: 5.6042 - val_sparse_categorical_accuracy: 0.0347\n",
      "Epoch 4/100\n",
      "28/28 [==============================] - 1s 43ms/step - loss: 0.9630 - sparse_categorical_accuracy: 0.7068 - val_loss: 8.3451 - val_sparse_categorical_accuracy: 0.0347\n",
      "Epoch 5/100\n",
      "28/28 [==============================] - 1s 43ms/step - loss: 0.7613 - sparse_categorical_accuracy: 0.7675 - val_loss: 8.2148 - val_sparse_categorical_accuracy: 0.0347\n",
      "Epoch 6/100\n",
      "28/28 [==============================] - 1s 42ms/step - loss: 0.6265 - sparse_categorical_accuracy: 0.7961 - val_loss: 10.1148 - val_sparse_categorical_accuracy: 0.0347\n",
      "Epoch 7/100\n",
      "28/28 [==============================] - 1s 42ms/step - loss: 0.5155 - sparse_categorical_accuracy: 0.8477 - val_loss: 11.4544 - val_sparse_categorical_accuracy: 0.0347\n",
      "Epoch 8/100\n",
      "28/28 [==============================] - 1s 45ms/step - loss: 0.4216 - sparse_categorical_accuracy: 0.8774 - val_loss: 10.6588 - val_sparse_categorical_accuracy: 0.0347\n",
      "Epoch 9/100\n",
      "28/28 [==============================] - 2s 55ms/step - loss: 0.3551 - sparse_categorical_accuracy: 0.8935 - val_loss: 12.4151 - val_sparse_categorical_accuracy: 0.0347\n",
      "Epoch 10/100\n",
      "28/28 [==============================] - 2s 79ms/step - loss: 0.3116 - sparse_categorical_accuracy: 0.9084 - val_loss: 14.1389 - val_sparse_categorical_accuracy: 0.0347\n",
      "Epoch 11/100\n",
      "28/28 [==============================] - 1s 44ms/step - loss: 0.2642 - sparse_categorical_accuracy: 0.9187 - val_loss: 6.0673 - val_sparse_categorical_accuracy: 0.1067\n",
      "Epoch 12/100\n",
      "28/28 [==============================] - 1s 44ms/step - loss: 0.2937 - sparse_categorical_accuracy: 0.9084 - val_loss: 13.9112 - val_sparse_categorical_accuracy: 0.0347\n",
      "Epoch 13/100\n",
      "28/28 [==============================] - 1s 43ms/step - loss: 0.2083 - sparse_categorical_accuracy: 0.9278 - val_loss: 10.3173 - val_sparse_categorical_accuracy: 0.0347\n",
      "Epoch 14/100\n",
      "28/28 [==============================] - 1s 43ms/step - loss: 0.1545 - sparse_categorical_accuracy: 0.9507 - val_loss: 3.2502 - val_sparse_categorical_accuracy: 0.4000\n",
      "Epoch 15/100\n",
      "28/28 [==============================] - 1s 46ms/step - loss: 0.1693 - sparse_categorical_accuracy: 0.9439 - val_loss: 6.2333 - val_sparse_categorical_accuracy: 0.0960\n",
      "Epoch 16/100\n",
      "28/28 [==============================] - 1s 43ms/step - loss: 0.1543 - sparse_categorical_accuracy: 0.9450 - val_loss: 1.6225 - val_sparse_categorical_accuracy: 0.5947\n",
      "Epoch 17/100\n",
      "28/28 [==============================] - 1s 43ms/step - loss: 0.1666 - sparse_categorical_accuracy: 0.9450 - val_loss: 6.7920 - val_sparse_categorical_accuracy: 0.1227\n",
      "Epoch 18/100\n",
      "28/28 [==============================] - 1s 43ms/step - loss: 0.1149 - sparse_categorical_accuracy: 0.9542 - val_loss: 0.8766 - val_sparse_categorical_accuracy: 0.7733\n",
      "Epoch 19/100\n",
      "28/28 [==============================] - 1s 43ms/step - loss: 0.1208 - sparse_categorical_accuracy: 0.9588 - val_loss: 0.7382 - val_sparse_categorical_accuracy: 0.8000\n",
      "Epoch 20/100\n",
      "28/28 [==============================] - 1s 43ms/step - loss: 0.0985 - sparse_categorical_accuracy: 0.9702 - val_loss: 1.3180 - val_sparse_categorical_accuracy: 0.6480\n",
      "Epoch 21/100\n",
      "28/28 [==============================] - 1s 43ms/step - loss: 0.1047 - sparse_categorical_accuracy: 0.9691 - val_loss: 3.2901 - val_sparse_categorical_accuracy: 0.4667\n",
      "Epoch 22/100\n",
      "28/28 [==============================] - 1s 51ms/step - loss: 0.0947 - sparse_categorical_accuracy: 0.9611 - val_loss: 4.1029 - val_sparse_categorical_accuracy: 0.3173\n",
      "Epoch 23/100\n",
      "28/28 [==============================] - 1s 53ms/step - loss: 0.0725 - sparse_categorical_accuracy: 0.9828 - val_loss: 1.4093 - val_sparse_categorical_accuracy: 0.6453\n",
      "Epoch 24/100\n",
      "28/28 [==============================] - 1s 45ms/step - loss: 0.0660 - sparse_categorical_accuracy: 0.9748 - val_loss: 1.6004 - val_sparse_categorical_accuracy: 0.7493\n",
      "Epoch 25/100\n",
      "28/28 [==============================] - 1s 43ms/step - loss: 0.0698 - sparse_categorical_accuracy: 0.9782 - val_loss: 1.2145 - val_sparse_categorical_accuracy: 0.7333\n",
      "Epoch 26/100\n",
      "28/28 [==============================] - 1s 42ms/step - loss: 0.0684 - sparse_categorical_accuracy: 0.9771 - val_loss: 0.4050 - val_sparse_categorical_accuracy: 0.9147\n",
      "Epoch 27/100\n",
      "28/28 [==============================] - 1s 43ms/step - loss: 0.0985 - sparse_categorical_accuracy: 0.9702 - val_loss: 0.4221 - val_sparse_categorical_accuracy: 0.9253\n",
      "Epoch 28/100\n",
      "28/28 [==============================] - 1s 43ms/step - loss: 0.0786 - sparse_categorical_accuracy: 0.9714 - val_loss: 0.3401 - val_sparse_categorical_accuracy: 0.9200\n",
      "Epoch 29/100\n",
      "28/28 [==============================] - 1s 42ms/step - loss: 0.1078 - sparse_categorical_accuracy: 0.9691 - val_loss: 0.8961 - val_sparse_categorical_accuracy: 0.8107\n",
      "Epoch 30/100\n",
      "28/28 [==============================] - 1s 43ms/step - loss: 0.0540 - sparse_categorical_accuracy: 0.9863 - val_loss: 0.5303 - val_sparse_categorical_accuracy: 0.8907\n",
      "Epoch 31/100\n",
      "28/28 [==============================] - 1s 45ms/step - loss: 0.0757 - sparse_categorical_accuracy: 0.9771 - val_loss: 0.4112 - val_sparse_categorical_accuracy: 0.9093\n",
      "Epoch 32/100\n",
      "28/28 [==============================] - 1s 43ms/step - loss: 0.0757 - sparse_categorical_accuracy: 0.9759 - val_loss: 1.0573 - val_sparse_categorical_accuracy: 0.8080\n",
      "Epoch 33/100\n",
      "28/28 [==============================] - 1s 43ms/step - loss: 0.0536 - sparse_categorical_accuracy: 0.9840 - val_loss: 0.3539 - val_sparse_categorical_accuracy: 0.9200\n",
      "Epoch 34/100\n",
      "28/28 [==============================] - 2s 72ms/step - loss: 0.0731 - sparse_categorical_accuracy: 0.9782 - val_loss: 1.5469 - val_sparse_categorical_accuracy: 0.7733\n",
      "Epoch 35/100\n",
      "28/28 [==============================] - 2s 58ms/step - loss: 0.0851 - sparse_categorical_accuracy: 0.9759 - val_loss: 1.0673 - val_sparse_categorical_accuracy: 0.7680\n",
      "Epoch 36/100\n",
      "28/28 [==============================] - 1s 43ms/step - loss: 0.0736 - sparse_categorical_accuracy: 0.9702 - val_loss: 1.1838 - val_sparse_categorical_accuracy: 0.7173\n",
      "Epoch 37/100\n",
      "28/28 [==============================] - 1s 42ms/step - loss: 0.0688 - sparse_categorical_accuracy: 0.9794 - val_loss: 1.5074 - val_sparse_categorical_accuracy: 0.7493\n",
      "Epoch 38/100\n",
      "28/28 [==============================] - 1s 45ms/step - loss: 0.0381 - sparse_categorical_accuracy: 0.9840 - val_loss: 0.2784 - val_sparse_categorical_accuracy: 0.9280\n",
      "Epoch 39/100\n",
      "28/28 [==============================] - 1s 43ms/step - loss: 0.0537 - sparse_categorical_accuracy: 0.9794 - val_loss: 1.8929 - val_sparse_categorical_accuracy: 0.7307\n",
      "Epoch 40/100\n",
      "28/28 [==============================] - 1s 43ms/step - loss: 0.0556 - sparse_categorical_accuracy: 0.9805 - val_loss: 0.7576 - val_sparse_categorical_accuracy: 0.8773\n",
      "Epoch 41/100\n",
      "28/28 [==============================] - 1s 43ms/step - loss: 0.0443 - sparse_categorical_accuracy: 0.9874 - val_loss: 0.9409 - val_sparse_categorical_accuracy: 0.7973\n",
      "Epoch 42/100\n",
      "28/28 [==============================] - 1s 43ms/step - loss: 0.0567 - sparse_categorical_accuracy: 0.9828 - val_loss: 0.4455 - val_sparse_categorical_accuracy: 0.9200\n",
      "Epoch 43/100\n",
      "28/28 [==============================] - 1s 43ms/step - loss: 0.0486 - sparse_categorical_accuracy: 0.9874 - val_loss: 0.3541 - val_sparse_categorical_accuracy: 0.9333\n",
      "Epoch 44/100\n",
      "28/28 [==============================] - 1s 42ms/step - loss: 0.0558 - sparse_categorical_accuracy: 0.9840 - val_loss: 0.3107 - val_sparse_categorical_accuracy: 0.9307\n",
      "Epoch 45/100\n",
      "28/28 [==============================] - 1s 42ms/step - loss: 0.0444 - sparse_categorical_accuracy: 0.9851 - val_loss: 0.2911 - val_sparse_categorical_accuracy: 0.9200\n",
      "Epoch 46/100\n",
      "28/28 [==============================] - 1s 42ms/step - loss: 0.0402 - sparse_categorical_accuracy: 0.9874 - val_loss: 0.4311 - val_sparse_categorical_accuracy: 0.9200\n",
      "Epoch 47/100\n",
      "28/28 [==============================] - 1s 45ms/step - loss: 0.0542 - sparse_categorical_accuracy: 0.9817 - val_loss: 1.1183 - val_sparse_categorical_accuracy: 0.8240\n",
      "Epoch 48/100\n",
      "28/28 [==============================] - 1s 51ms/step - loss: 0.0331 - sparse_categorical_accuracy: 0.9897 - val_loss: 0.4349 - val_sparse_categorical_accuracy: 0.9227\n",
      "Epoch 49/100\n",
      "28/28 [==============================] - 1s 54ms/step - loss: 0.0541 - sparse_categorical_accuracy: 0.9817 - val_loss: 0.3464 - val_sparse_categorical_accuracy: 0.9253\n",
      "Epoch 50/100\n",
      "28/28 [==============================] - 1s 45ms/step - loss: 0.0415 - sparse_categorical_accuracy: 0.9863 - val_loss: 0.3952 - val_sparse_categorical_accuracy: 0.9120\n",
      "Epoch 51/100\n",
      "28/28 [==============================] - 1s 42ms/step - loss: 0.0533 - sparse_categorical_accuracy: 0.9851 - val_loss: 0.5306 - val_sparse_categorical_accuracy: 0.9253\n",
      "Epoch 52/100\n",
      "28/28 [==============================] - 1s 42ms/step - loss: 0.0448 - sparse_categorical_accuracy: 0.9828 - val_loss: 2.2810 - val_sparse_categorical_accuracy: 0.5947\n",
      "Epoch 53/100\n",
      "28/28 [==============================] - 1s 42ms/step - loss: 0.0537 - sparse_categorical_accuracy: 0.9805 - val_loss: 0.6301 - val_sparse_categorical_accuracy: 0.8533\n",
      "Epoch 54/100\n",
      "28/28 [==============================] - 1s 42ms/step - loss: 0.0416 - sparse_categorical_accuracy: 0.9863 - val_loss: 1.0016 - val_sparse_categorical_accuracy: 0.7840\n",
      "Epoch 55/100\n",
      "28/28 [==============================] - 1s 45ms/step - loss: 0.0351 - sparse_categorical_accuracy: 0.9863 - val_loss: 0.3770 - val_sparse_categorical_accuracy: 0.9360\n",
      "Epoch 56/100\n",
      "28/28 [==============================] - 1s 43ms/step - loss: 0.0200 - sparse_categorical_accuracy: 0.9931 - val_loss: 0.5710 - val_sparse_categorical_accuracy: 0.9147\n",
      "Epoch 57/100\n",
      "28/28 [==============================] - 1s 43ms/step - loss: 0.0356 - sparse_categorical_accuracy: 0.9897 - val_loss: 0.4465 - val_sparse_categorical_accuracy: 0.9200\n",
      "Epoch 58/100\n",
      "28/28 [==============================] - 1s 43ms/step - loss: 0.0341 - sparse_categorical_accuracy: 0.9885 - val_loss: 0.8186 - val_sparse_categorical_accuracy: 0.8773\n"
     ]
    }
   ],
   "source": [
    "es1 = EarlyStopping(patience=20, monitor=\"val_sparse_categorical_accuracy\", mode=\"auto\")\n",
    "es2 = EarlyStopping(patience=20, monitor=\"val_loss\", mode=\"auto\")\n",
    "\n",
    "#The neural network will stop fitting if it gets 20 epochs without converge\n",
    "\n",
    "history = model.fit(x=X_train,\n",
    "                    y=y_train,\n",
    "                    epochs=100,\n",
    "                    validation_split=0.3,\n",
    "                    callbacks=[es1, es2])"
   ]
  },
  {
   "cell_type": "code",
   "execution_count": null,
   "id": "852febf6",
   "metadata": {
    "execution": {
     "iopub.execute_input": "2024-11-02T10:33:52.020489Z",
     "iopub.status.busy": "2024-11-02T10:33:52.019370Z",
     "iopub.status.idle": "2024-11-02T10:33:52.027006Z",
     "shell.execute_reply": "2024-11-02T10:33:52.027573Z",
     "shell.execute_reply.started": "2024-11-02T10:21:15.675705Z"
    },
    "papermill": {
     "duration": 1.279075,
     "end_time": "2024-11-02T10:33:52.027778",
     "exception": false,
     "start_time": "2024-11-02T10:33:50.748703",
     "status": "completed"
    },
    "tags": []
   },
   "outputs": [
    {
     "name": "stdout",
     "output_type": "stream",
     "text": [
      "Model: \"sequential_1\"\n",
      "_________________________________________________________________\n",
      "Layer (type)                 Output Shape              Param #   \n",
      "=================================================================\n",
      "conv2d_3 (Conv2D)            (None, 28, 28, 64)        4864      \n",
      "_________________________________________________________________\n",
      "max_pooling2d_3 (MaxPooling2 (None, 14, 14, 64)        0         \n",
      "_________________________________________________________________\n",
      "batch_normalization_4 (Batch (None, 14, 14, 64)        256       \n",
      "_________________________________________________________________\n",
      "conv2d_4 (Conv2D)            (None, 14, 14, 64)        36928     \n",
      "_________________________________________________________________\n",
      "max_pooling2d_4 (MaxPooling2 (None, 7, 7, 64)          0         \n",
      "_________________________________________________________________\n",
      "dropout_3 (Dropout)          (None, 7, 7, 64)          0         \n",
      "_________________________________________________________________\n",
      "batch_normalization_5 (Batch (None, 7, 7, 64)          256       \n",
      "_________________________________________________________________\n",
      "conv2d_5 (Conv2D)            (None, 7, 7, 64)          36928     \n",
      "_________________________________________________________________\n",
      "max_pooling2d_5 (MaxPooling2 (None, 3, 3, 64)          0         \n",
      "_________________________________________________________________\n",
      "dropout_4 (Dropout)          (None, 3, 3, 64)          0         \n",
      "_________________________________________________________________\n",
      "batch_normalization_6 (Batch (None, 3, 3, 64)          256       \n",
      "_________________________________________________________________\n",
      "flatten_1 (Flatten)          (None, 576)               0         \n",
      "_________________________________________________________________\n",
      "dense_3 (Dense)              (None, 576)               332352    \n",
      "_________________________________________________________________\n",
      "dropout_5 (Dropout)          (None, 576)               0         \n",
      "_________________________________________________________________\n",
      "batch_normalization_7 (Batch (None, 576)               2304      \n",
      "_________________________________________________________________\n",
      "dense_4 (Dense)              (None, 288)               166176    \n",
      "_________________________________________________________________\n",
      "dense_5 (Dense)              (None, 26)                7514      \n",
      "=================================================================\n",
      "Total params: 587,834\n",
      "Trainable params: 586,298\n",
      "Non-trainable params: 1,536\n",
      "_________________________________________________________________\n"
     ]
    }
   ],
   "source": [
    "model.summary()"
   ]
  },
  {
   "cell_type": "code",
   "execution_count": null,
   "id": "b8cc7f87",
   "metadata": {
    "execution": {
     "iopub.execute_input": "2024-11-02T10:33:54.537149Z",
     "iopub.status.busy": "2024-11-02T10:33:54.536399Z",
     "iopub.status.idle": "2024-11-02T10:33:54.540002Z",
     "shell.execute_reply": "2024-11-02T10:33:54.539302Z",
     "shell.execute_reply.started": "2024-11-02T10:21:15.703835Z"
    },
    "papermill": {
     "duration": 1.286815,
     "end_time": "2024-11-02T10:33:54.540175",
     "exception": false,
     "start_time": "2024-11-02T10:33:53.253360",
     "status": "completed"
    },
    "tags": []
   },
   "outputs": [],
   "source": [
    "time = np.arange(1, len(history.history['loss'])+1)"
   ]
  },
  {
   "cell_type": "code",
   "execution_count": null,
   "id": "974b5c14",
   "metadata": {
    "execution": {
     "iopub.execute_input": "2024-11-02T10:33:57.030329Z",
     "iopub.status.busy": "2024-11-02T10:33:57.029170Z",
     "iopub.status.idle": "2024-11-02T10:33:57.320730Z",
     "shell.execute_reply": "2024-11-02T10:33:57.321341Z",
     "shell.execute_reply.started": "2024-11-02T10:21:15.712120Z"
    },
    "papermill": {
     "duration": 1.532114,
     "end_time": "2024-11-02T10:33:57.321536",
     "exception": false,
     "start_time": "2024-11-02T10:33:55.789422",
     "status": "completed"
    },
    "tags": []
   },
   "outputs": [
    {
     "data": {
      "image/png": "[encoded data removed]",
      "text/plain": [
       "<Figure size 432x288 with 1 Axes>"
      ]
     },
     "metadata": {
      "needs_background": "light"
     },
     "output_type": "display_data"
    }
   ],
   "source": [
    "sns.lineplot(data=history.history, x=time, y='loss')\n",
    "sns.lineplot(data=history.history, x=time, y='val_loss')\n",
    "plt.title('Loss fitting history')\n",
    "plt.legend(labels=['Loss', 'Validation loss'])\n",
    "plt.show()"
   ]
  },
  {
   "cell_type": "code",
   "execution_count": null,
   "id": "6ade3f3a",
   "metadata": {
    "execution": {
     "iopub.execute_input": "2024-11-02T10:33:59.793014Z",
     "iopub.status.busy": "2024-11-02T10:33:59.792254Z",
     "iopub.status.idle": "2024-11-02T10:34:00.063582Z",
     "shell.execute_reply": "2024-11-02T10:34:00.062800Z",
     "shell.execute_reply.started": "2024-11-02T10:21:15.994117Z"
    },
    "papermill": {
     "duration": 1.519898,
     "end_time": "2024-11-02T10:34:00.063743",
     "exception": false,
     "start_time": "2024-11-02T10:33:58.543845",
     "status": "completed"
    },
    "tags": []
   },
   "outputs": [
    {
     "data": {
      "image/png": "[encoded data removed]",
      "text/plain": [
       "<Figure size 432x288 with 1 Axes>"
      ]
     },
     "metadata": {
      "needs_background": "light"
     },
     "output_type": "display_data"
    }
   ],
   "source": [
    "sns.lineplot(data=history.history, x=time, y='val_sparse_categorical_accuracy')\n",
    "sns.lineplot(data=history.history, x=time, y='sparse_categorical_accuracy')\n",
    "plt.title('Accuracy fitting history')\n",
    "plt.legend(labels=['Accuracy', 'Valuation accuracy'])\n",
    "plt.show()"
   ]
  },
  {
   "cell_type": "code",
   "execution_count": null,
   "id": "1ad1c329",
   "metadata": {
    "execution": {
     "iopub.execute_input": "2024-11-02T10:34:02.530795Z",
     "iopub.status.busy": "2024-11-02T10:34:02.529964Z",
     "iopub.status.idle": "2024-11-02T10:34:02.713759Z",
     "shell.execute_reply": "2024-11-02T10:34:02.713008Z",
     "shell.execute_reply.started": "2024-11-02T10:21:16.271615Z"
    },
    "papermill": {
     "duration": 1.415581,
     "end_time": "2024-11-02T10:34:02.713965",
     "exception": false,
     "start_time": "2024-11-02T10:34:01.298384",
     "status": "completed"
    },
    "tags": []
   },
   "outputs": [
    {
     "name": "stdout",
     "output_type": "stream",
     "text": [
      "RMSProp\n",
      "10/10 [==============================] - 0s 11ms/step - loss: 0.6370 - sparse_categorical_accuracy: 0.8846\n"
     ]
    },
    {
     "data": {
      "text/plain": [
       "[0.6369917988777161, 0.8846153616905212]"
      ]
     },
     "execution_count": 44,
     "metadata": {},
     "output_type": "execute_result"
    }
   ],
   "source": [
    "print(\"RMSProp\")\n",
    "model.evaluate(X_test, y_test)"
   ]
  },
  {
   "cell_type": "markdown",
   "id": "1f5a8731",
   "metadata": {
    "papermill": {
     "duration": 1.256281,
     "end_time": "2024-11-02T10:34:05.193738",
     "exception": false,
     "start_time": "2024-11-02T10:34:03.937457",
     "status": "completed"
    },
    "tags": []
   },
   "source": [
    "# Optimization Model 2"
   ]
  },
  {
   "cell_type": "code",
   "execution_count": null,
   "id": "3a433281",
   "metadata": {
    "execution": {
     "iopub.execute_input": "2024-11-02T10:34:07.662491Z",
     "iopub.status.busy": "2024-11-02T10:34:07.661187Z",
     "iopub.status.idle": "2024-11-02T10:34:07.710051Z",
     "shell.execute_reply": "2024-11-02T10:34:07.709233Z",
     "shell.execute_reply.started": "2024-11-02T10:21:16.474195Z"
    },
    "papermill": {
     "duration": 1.287273,
     "end_time": "2024-11-02T10:34:07.710266",
     "exception": false,
     "start_time": "2024-11-02T10:34:06.422993",
     "status": "completed"
    },
    "tags": []
   },
   "outputs": [
    {
     "name": "stdout",
     "output_type": "stream",
     "text": [
      "Model size: 4678.53 KB\n"
     ]
    }
   ],
   "source": [
    "# model_save_path = 'cnn_model.h5'\n",
    "model_save_path = 'cnn_model2_braille.keras'\n",
    "model.save(model_save_path)\n",
    "\n",
    "# Get the size of the model in bytes\n",
    "model_size = os.path.getsize(model_save_path)\n",
    "print(f\"Model size: {model_size / 1024:.2f} KB\")"
   ]
  },
  {
   "cell_type": "code",
   "execution_count": null,
   "id": "20ad2de0",
   "metadata": {
    "execution": {
     "iopub.execute_input": "2024-11-02T10:34:10.227795Z",
     "iopub.status.busy": "2024-11-02T10:34:10.227024Z",
     "iopub.status.idle": "2024-11-02T10:34:10.476684Z",
     "shell.execute_reply": "2024-11-02T10:34:10.477456Z",
     "shell.execute_reply.started": "2024-11-02T10:21:16.541960Z"
    },
    "papermill": {
     "duration": 1.54196,
     "end_time": "2024-11-02T10:34:10.477649",
     "exception": false,
     "start_time": "2024-11-02T10:34:08.935689",
     "status": "completed"
    },
    "tags": []
   },
   "outputs": [
    {
     "name": "stdout",
     "output_type": "stream",
     "text": [
      "Model: \"sequential_1\"\n",
      "_________________________________________________________________\n",
      "Layer (type)                 Output Shape              Param #   \n",
      "=================================================================\n",
      "prune_low_magnitude_conv2d_3 (None, 28, 28, 64)        9666      \n",
      "_________________________________________________________________\n",
      "prune_low_magnitude_max_pool (None, 14, 14, 64)        1         \n",
      "_________________________________________________________________\n",
      "prune_low_magnitude_batch_no (None, 14, 14, 64)        257       \n",
      "_________________________________________________________________\n",
      "prune_low_magnitude_conv2d_4 (None, 14, 14, 64)        73794     \n",
      "_________________________________________________________________\n",
      "prune_low_magnitude_max_pool (None, 7, 7, 64)          1         \n",
      "_________________________________________________________________\n",
      "prune_low_magnitude_dropout_ (None, 7, 7, 64)          1         \n",
      "_________________________________________________________________\n",
      "prune_low_magnitude_batch_no (None, 7, 7, 64)          257       \n",
      "_________________________________________________________________\n",
      "prune_low_magnitude_conv2d_5 (None, 7, 7, 64)          73794     \n",
      "_________________________________________________________________\n",
      "prune_low_magnitude_max_pool (None, 3, 3, 64)          1         \n",
      "_________________________________________________________________\n",
      "prune_low_magnitude_dropout_ (None, 3, 3, 64)          1         \n",
      "_________________________________________________________________\n",
      "prune_low_magnitude_batch_no (None, 3, 3, 64)          257       \n",
      "_________________________________________________________________\n",
      "prune_low_magnitude_flatten_ (None, 576)               1         \n",
      "_________________________________________________________________\n",
      "prune_low_magnitude_dense_3  (None, 576)               664130    \n",
      "_________________________________________________________________\n",
      "prune_low_magnitude_dropout_ (None, 576)               1         \n",
      "_________________________________________________________________\n",
      "prune_low_magnitude_batch_no (None, 576)               2305      \n",
      "_________________________________________________________________\n",
      "prune_low_magnitude_dense_4  (None, 288)               332066    \n",
      "_________________________________________________________________\n",
      "prune_low_magnitude_dense_5  (None, 26)                15004     \n",
      "=================================================================\n",
      "Total params: 1,171,537\n",
      "Trainable params: 586,298\n",
      "Non-trainable params: 585,239\n",
      "_________________________________________________________________\n"
     ]
    }
   ],
   "source": [
    "prune_low_magnitude = tfmot.sparsity.keras.prune_low_magnitude\n",
    "pruning_params = {\n",
    "      'pruning_schedule': tfmot.sparsity.keras.ConstantSparsity(0.1, begin_step=0, frequency=100)\n",
    "  }\n",
    "\n",
    "pruned_model = prune_low_magnitude(model, **pruning_params)\n",
    "pruned_model.compile(optimizer=\"RMSprop\", loss=\"SparseCategoricalCrossentropy\", metrics=[\"sparse_categorical_accuracy\"])\n",
    "pruned_model.summary()"
   ]
  },
  {
   "cell_type": "markdown",
   "id": "d4758341",
   "metadata": {
    "papermill": {
     "duration": 1.225453,
     "end_time": "2024-11-02T10:34:12.926199",
     "exception": false,
     "start_time": "2024-11-02T10:34:11.700746",
     "status": "completed"
    },
    "tags": []
   },
   "source": [
    "# Pruning"
   ]
  },
  {
   "cell_type": "code",
   "execution_count": null,
   "id": "f2e7dcd4",
   "metadata": {
    "execution": {
     "iopub.execute_input": "2024-11-02T10:34:15.416367Z",
     "iopub.status.busy": "2024-11-02T10:34:15.415526Z",
     "iopub.status.idle": "2024-11-02T10:35:27.972214Z",
     "shell.execute_reply": "2024-11-02T10:35:27.971434Z",
     "shell.execute_reply.started": "2024-11-02T10:21:16.863162Z"
    },
    "papermill": {
     "duration": 73.819548,
     "end_time": "2024-11-02T10:35:27.972388",
     "exception": false,
     "start_time": "2024-11-02T10:34:14.152840",
     "status": "completed"
    },
    "tags": []
   },
   "outputs": [
    {
     "name": "stdout",
     "output_type": "stream",
     "text": [
      "Epoch 1/100\n",
      "28/28 [==============================] - 7s 60ms/step - loss: 0.0384 - sparse_categorical_accuracy: 0.9885 - val_loss: 0.6044 - val_sparse_categorical_accuracy: 0.9013\n",
      "Epoch 2/100\n",
      "28/28 [==============================] - 3s 95ms/step - loss: 0.0543 - sparse_categorical_accuracy: 0.9828 - val_loss: 0.4822 - val_sparse_categorical_accuracy: 0.9307\n",
      "Epoch 3/100\n",
      "28/28 [==============================] - 1s 48ms/step - loss: 0.0435 - sparse_categorical_accuracy: 0.9885 - val_loss: 1.0129 - val_sparse_categorical_accuracy: 0.8773\n",
      "Epoch 4/100\n",
      "28/28 [==============================] - 1s 48ms/step - loss: 0.0537 - sparse_categorical_accuracy: 0.9874 - val_loss: 0.5057 - val_sparse_categorical_accuracy: 0.9387\n",
      "Epoch 5/100\n",
      "28/28 [==============================] - 1s 44ms/step - loss: 0.0396 - sparse_categorical_accuracy: 0.9863 - val_loss: 0.7415 - val_sparse_categorical_accuracy: 0.8960\n",
      "Epoch 6/100\n",
      "28/28 [==============================] - 1s 44ms/step - loss: 0.0152 - sparse_categorical_accuracy: 0.9931 - val_loss: 0.5805 - val_sparse_categorical_accuracy: 0.9387\n",
      "Epoch 7/100\n",
      "28/28 [==============================] - 1s 43ms/step - loss: 0.0224 - sparse_categorical_accuracy: 0.9920 - val_loss: 0.4151 - val_sparse_categorical_accuracy: 0.9280\n",
      "Epoch 8/100\n",
      "28/28 [==============================] - 1s 46ms/step - loss: 0.0124 - sparse_categorical_accuracy: 0.9966 - val_loss: 0.5122 - val_sparse_categorical_accuracy: 0.9280\n",
      "Epoch 9/100\n",
      "28/28 [==============================] - 1s 44ms/step - loss: 0.0261 - sparse_categorical_accuracy: 0.9943 - val_loss: 1.1545 - val_sparse_categorical_accuracy: 0.8400\n",
      "Epoch 10/100\n",
      "28/28 [==============================] - 1s 47ms/step - loss: 0.0261 - sparse_categorical_accuracy: 0.9931 - val_loss: 0.3876 - val_sparse_categorical_accuracy: 0.9360\n",
      "Epoch 11/100\n",
      "28/28 [==============================] - 1s 47ms/step - loss: 0.0385 - sparse_categorical_accuracy: 0.9908 - val_loss: 0.7850 - val_sparse_categorical_accuracy: 0.8693\n",
      "Epoch 12/100\n",
      "28/28 [==============================] - 1s 44ms/step - loss: 0.0219 - sparse_categorical_accuracy: 0.9874 - val_loss: 0.3936 - val_sparse_categorical_accuracy: 0.9413\n",
      "Epoch 13/100\n",
      "28/28 [==============================] - 1s 44ms/step - loss: 0.0125 - sparse_categorical_accuracy: 0.9943 - val_loss: 0.6046 - val_sparse_categorical_accuracy: 0.8933\n",
      "Epoch 14/100\n",
      "28/28 [==============================] - 1s 44ms/step - loss: 0.0444 - sparse_categorical_accuracy: 0.9897 - val_loss: 0.3368 - val_sparse_categorical_accuracy: 0.9387\n",
      "Epoch 15/100\n",
      "28/28 [==============================] - 1s 46ms/step - loss: 0.0256 - sparse_categorical_accuracy: 0.9931 - val_loss: 0.6805 - val_sparse_categorical_accuracy: 0.9093\n",
      "Epoch 16/100\n",
      "28/28 [==============================] - 1s 44ms/step - loss: 0.0686 - sparse_categorical_accuracy: 0.9885 - val_loss: 0.3893 - val_sparse_categorical_accuracy: 0.9440\n",
      "Epoch 17/100\n",
      "28/28 [==============================] - 1s 44ms/step - loss: 0.0090 - sparse_categorical_accuracy: 0.9977 - val_loss: 0.5476 - val_sparse_categorical_accuracy: 0.9253\n",
      "Epoch 18/100\n",
      "28/28 [==============================] - 1s 49ms/step - loss: 0.0148 - sparse_categorical_accuracy: 0.9954 - val_loss: 0.5531 - val_sparse_categorical_accuracy: 0.9253\n",
      "Epoch 19/100\n",
      "28/28 [==============================] - 1s 53ms/step - loss: 0.0270 - sparse_categorical_accuracy: 0.9863 - val_loss: 2.3518 - val_sparse_categorical_accuracy: 0.7333\n",
      "Epoch 20/100\n",
      "28/28 [==============================] - 2s 56ms/step - loss: 0.0190 - sparse_categorical_accuracy: 0.9943 - val_loss: 0.3654 - val_sparse_categorical_accuracy: 0.9440\n",
      "Epoch 21/100\n",
      "28/28 [==============================] - 1s 48ms/step - loss: 0.0176 - sparse_categorical_accuracy: 0.9931 - val_loss: 0.3666 - val_sparse_categorical_accuracy: 0.9413\n",
      "Epoch 22/100\n",
      "28/28 [==============================] - 1s 47ms/step - loss: 0.0157 - sparse_categorical_accuracy: 0.9943 - val_loss: 0.3592 - val_sparse_categorical_accuracy: 0.9333\n",
      "Epoch 23/100\n",
      "28/28 [==============================] - 1s 44ms/step - loss: 0.0289 - sparse_categorical_accuracy: 0.9920 - val_loss: 0.9475 - val_sparse_categorical_accuracy: 0.8267\n",
      "Epoch 24/100\n",
      "28/28 [==============================] - 1s 43ms/step - loss: 0.0335 - sparse_categorical_accuracy: 0.9908 - val_loss: 0.3807 - val_sparse_categorical_accuracy: 0.9387\n",
      "Epoch 25/100\n",
      "28/28 [==============================] - 2s 73ms/step - loss: 0.0231 - sparse_categorical_accuracy: 0.9943 - val_loss: 0.7596 - val_sparse_categorical_accuracy: 0.9013\n",
      "Epoch 26/100\n",
      "28/28 [==============================] - 2s 59ms/step - loss: 0.0344 - sparse_categorical_accuracy: 0.9931 - val_loss: 0.4246 - val_sparse_categorical_accuracy: 0.9200\n",
      "Epoch 27/100\n",
      "28/28 [==============================] - 1s 43ms/step - loss: 0.0395 - sparse_categorical_accuracy: 0.9885 - val_loss: 0.4012 - val_sparse_categorical_accuracy: 0.9360\n",
      "Epoch 28/100\n",
      "28/28 [==============================] - 1s 43ms/step - loss: 0.0189 - sparse_categorical_accuracy: 0.9954 - val_loss: 0.6689 - val_sparse_categorical_accuracy: 0.8693\n",
      "Epoch 29/100\n",
      "28/28 [==============================] - 1s 46ms/step - loss: 0.0119 - sparse_categorical_accuracy: 0.9977 - val_loss: 0.2846 - val_sparse_categorical_accuracy: 0.9520\n",
      "Epoch 30/100\n",
      "28/28 [==============================] - 1s 43ms/step - loss: 0.0100 - sparse_categorical_accuracy: 0.9977 - val_loss: 0.4289 - val_sparse_categorical_accuracy: 0.9280\n",
      "Epoch 31/100\n",
      "28/28 [==============================] - 1s 44ms/step - loss: 0.0273 - sparse_categorical_accuracy: 0.9908 - val_loss: 0.8034 - val_sparse_categorical_accuracy: 0.8640\n",
      "Epoch 32/100\n",
      "28/28 [==============================] - 1s 44ms/step - loss: 0.0142 - sparse_categorical_accuracy: 0.9931 - val_loss: 0.4059 - val_sparse_categorical_accuracy: 0.9333\n",
      "Epoch 33/100\n",
      "28/28 [==============================] - 1s 50ms/step - loss: 0.0191 - sparse_categorical_accuracy: 0.9931 - val_loss: 0.4294 - val_sparse_categorical_accuracy: 0.9360\n",
      "Epoch 34/100\n",
      "28/28 [==============================] - 1s 44ms/step - loss: 0.0127 - sparse_categorical_accuracy: 0.9954 - val_loss: 0.3783 - val_sparse_categorical_accuracy: 0.9280\n",
      "Epoch 35/100\n",
      "28/28 [==============================] - 1s 43ms/step - loss: 0.0324 - sparse_categorical_accuracy: 0.9897 - val_loss: 1.1925 - val_sparse_categorical_accuracy: 0.8267\n",
      "Epoch 36/100\n",
      "28/28 [==============================] - 1s 46ms/step - loss: 0.0096 - sparse_categorical_accuracy: 0.9966 - val_loss: 0.4068 - val_sparse_categorical_accuracy: 0.9413\n",
      "Epoch 37/100\n",
      "28/28 [==============================] - 1s 43ms/step - loss: 0.0204 - sparse_categorical_accuracy: 0.9943 - val_loss: 0.5491 - val_sparse_categorical_accuracy: 0.9200\n",
      "Epoch 38/100\n",
      "28/28 [==============================] - 1s 44ms/step - loss: 0.0147 - sparse_categorical_accuracy: 0.9954 - val_loss: 0.3758 - val_sparse_categorical_accuracy: 0.9333\n",
      "Epoch 39/100\n",
      "28/28 [==============================] - 1s 44ms/step - loss: 0.0101 - sparse_categorical_accuracy: 0.9977 - val_loss: 0.4602 - val_sparse_categorical_accuracy: 0.9387\n",
      "Epoch 40/100\n",
      "28/28 [==============================] - 1s 47ms/step - loss: 0.0034 - sparse_categorical_accuracy: 0.9989 - val_loss: 0.4632 - val_sparse_categorical_accuracy: 0.9387\n",
      "Epoch 41/100\n",
      "28/28 [==============================] - 1s 46ms/step - loss: 0.0359 - sparse_categorical_accuracy: 0.9897 - val_loss: 0.8299 - val_sparse_categorical_accuracy: 0.8667\n",
      "Epoch 42/100\n",
      "28/28 [==============================] - 1s 44ms/step - loss: 0.0130 - sparse_categorical_accuracy: 0.9954 - val_loss: 0.5393 - val_sparse_categorical_accuracy: 0.9147\n",
      "Epoch 43/100\n",
      "28/28 [==============================] - 1s 47ms/step - loss: 0.0176 - sparse_categorical_accuracy: 0.9931 - val_loss: 0.4160 - val_sparse_categorical_accuracy: 0.9307\n",
      "Epoch 44/100\n",
      "28/28 [==============================] - 1s 54ms/step - loss: 0.0043 - sparse_categorical_accuracy: 0.9977 - val_loss: 0.4586 - val_sparse_categorical_accuracy: 0.9333\n",
      "Epoch 45/100\n",
      "28/28 [==============================] - 2s 55ms/step - loss: 0.0346 - sparse_categorical_accuracy: 0.9885 - val_loss: 0.4869 - val_sparse_categorical_accuracy: 0.9333\n",
      "Epoch 46/100\n",
      "28/28 [==============================] - 1s 51ms/step - loss: 0.0159 - sparse_categorical_accuracy: 0.9977 - val_loss: 0.4351 - val_sparse_categorical_accuracy: 0.9387\n",
      "Epoch 47/100\n",
      "28/28 [==============================] - 1s 47ms/step - loss: 0.0392 - sparse_categorical_accuracy: 0.9920 - val_loss: 0.5086 - val_sparse_categorical_accuracy: 0.9280\n",
      "Epoch 48/100\n",
      "28/28 [==============================] - 1s 47ms/step - loss: 0.0359 - sparse_categorical_accuracy: 0.9920 - val_loss: 0.4747 - val_sparse_categorical_accuracy: 0.9413\n",
      "Epoch 49/100\n",
      "28/28 [==============================] - 3s 92ms/step - loss: 0.0096 - sparse_categorical_accuracy: 0.9966 - val_loss: 0.4168 - val_sparse_categorical_accuracy: 0.9360\n",
      "Total time: 72.55 seconds\n"
     ]
    }
   ],
   "source": [
    "import time\n",
    "start_pruning_time = time.time()\n",
    "\n",
    "# Train the model\n",
    "history = pruned_model.fit(x=X_train,\n",
    "                    y=y_train,\n",
    "                    epochs=100,\n",
    "                    validation_split=0.3,\n",
    "                    callbacks=[es1, es2, tfmot.sparsity.keras.UpdatePruningStep()])\n",
    "\n",
    "end_time = time.time()\n",
    "total_time = end_time - start_pruning_time \n",
    "print(f\"Total time: {total_time:.2f} seconds\")"
   ]
  },
  {
   "cell_type": "markdown",
   "id": "627c09d3",
   "metadata": {
    "papermill": {
     "duration": 1.600256,
     "end_time": "2024-11-02T10:35:31.109394",
     "exception": false,
     "start_time": "2024-11-02T10:35:29.509138",
     "status": "completed"
    },
    "tags": []
   },
   "source": [
    "# Evaluate the model with testing data¶"
   ]
  },
  {
   "cell_type": "code",
   "execution_count": null,
   "id": "069ec937",
   "metadata": {
    "execution": {
     "iopub.execute_input": "2024-11-02T10:35:34.185094Z",
     "iopub.status.busy": "2024-11-02T10:35:34.184294Z",
     "iopub.status.idle": "2024-11-02T10:35:34.381858Z",
     "shell.execute_reply": "2024-11-02T10:35:34.381195Z",
     "shell.execute_reply.started": "2024-11-02T10:22:20.635300Z"
    },
    "papermill": {
     "duration": 1.741456,
     "end_time": "2024-11-02T10:35:34.382025",
     "exception": false,
     "start_time": "2024-11-02T10:35:32.640569",
     "status": "completed"
    },
    "tags": []
   },
   "outputs": [
    {
     "name": "stdout",
     "output_type": "stream",
     "text": [
      "10/10 [==============================] - 0s 13ms/step - loss: 0.2669 - sparse_categorical_accuracy: 0.9487\n",
      "Test accuracy: 0.9487179517745972\n"
     ]
    }
   ],
   "source": [
    "# Evaluate the model on the test data\n",
    "pruned_test_loss, pruned_test_acc = pruned_model.evaluate(X_test, y_test)\n",
    "print(f\"Test accuracy: {pruned_test_acc}\")"
   ]
  },
  {
   "cell_type": "code",
   "execution_count": null,
   "id": "8f64ebdf",
   "metadata": {
    "execution": {
     "iopub.execute_input": "2024-11-02T10:35:37.502251Z",
     "iopub.status.busy": "2024-11-02T10:35:37.501432Z",
     "iopub.status.idle": "2024-11-02T10:35:37.573554Z",
     "shell.execute_reply": "2024-11-02T10:35:37.572915Z",
     "shell.execute_reply.started": "2024-11-02T10:22:20.865720Z"
    },
    "papermill": {
     "duration": 1.631245,
     "end_time": "2024-11-02T10:35:37.573726",
     "exception": false,
     "start_time": "2024-11-02T10:35:35.942481",
     "status": "completed"
    },
    "tags": []
   },
   "outputs": [
    {
     "name": "stdout",
     "output_type": "stream",
     "text": [
      "Model size after pruning: 6997.76 KB\n"
     ]
    }
   ],
   "source": [
    "model_save_path = 'cnn_pruned_model2_braille.keras'\n",
    "pruned_model.save(model_save_path)\n",
    "\n",
    "# Get the size of the model in bytes\n",
    "model_size = os.path.getsize(model_save_path)\n",
    "print(f\"Model size after pruning: {model_size / 1024:.2f} KB\")"
   ]
  },
  {
   "cell_type": "code",
   "execution_count": null,
   "id": "40b59b2b",
   "metadata": {
    "execution": {
     "iopub.execute_input": "2024-11-02T10:35:40.666887Z",
     "iopub.status.busy": "2024-11-02T10:35:40.665777Z",
     "iopub.status.idle": "2024-11-02T10:35:44.424705Z",
     "shell.execute_reply": "2024-11-02T10:35:44.424052Z",
     "shell.execute_reply.started": "2024-11-02T10:22:20.959728Z"
    },
    "papermill": {
     "duration": 5.309955,
     "end_time": "2024-11-02T10:35:44.424863",
     "exception": false,
     "start_time": "2024-11-02T10:35:39.114908",
     "status": "completed"
    },
    "tags": []
   },
   "outputs": [
    {
     "name": "stdout",
     "output_type": "stream",
     "text": [
      "Model size after pruning + convert to tf lite: 2292.02 KB\n"
     ]
    }
   ],
   "source": [
    "model_for_export = tfmot.sparsity.keras.strip_pruning(pruned_model)\n",
    "converter = tf.lite.TFLiteConverter.from_keras_model(model_for_export)\n",
    "tflite_model = converter.convert()\n",
    "\n",
    "# Save the TFLite model to a file\n",
    "model_save_path = 'pruned_model2_braille.tflite'\n",
    "with open(model_save_path, 'wb') as f:\n",
    "    f.write(tflite_model)\n",
    "\n",
    "model_size = os.path.getsize(model_save_path)\n",
    "print(f\"Model size after pruning + convert to tf lite: {model_size / 1024:.2f} KB\")"
   ]
  },
  {
   "cell_type": "markdown",
   "id": "31345870",
   "metadata": {
    "papermill": {
     "duration": 1.594372,
     "end_time": "2024-11-02T10:35:47.583321",
     "exception": false,
     "start_time": "2024-11-02T10:35:45.988949",
     "status": "completed"
    },
    "tags": []
   },
   "source": [
    "# Post Training Quantization"
   ]
  },
  {
   "cell_type": "code",
   "execution_count": null,
   "id": "455229d5",
   "metadata": {
    "execution": {
     "iopub.execute_input": "2024-11-02T10:35:50.672074Z",
     "iopub.status.busy": "2024-11-02T10:35:50.671296Z",
     "iopub.status.idle": "2024-11-02T10:35:50.769440Z",
     "shell.execute_reply": "2024-11-02T10:35:50.770031Z",
     "shell.execute_reply.started": "2024-11-02T10:22:24.956089Z"
    },
    "papermill": {
     "duration": 1.647229,
     "end_time": "2024-11-02T10:35:50.770243",
     "exception": false,
     "start_time": "2024-11-02T10:35:49.123014",
     "status": "completed"
    },
    "tags": []
   },
   "outputs": [
    {
     "name": "stdout",
     "output_type": "stream",
     "text": [
      "Model: \"sequential_1\"\n",
      "_________________________________________________________________\n",
      "Layer (type)                 Output Shape              Param #   \n",
      "=================================================================\n",
      "conv2d_3 (Conv2D)            (None, 28, 28, 64)        4864      \n",
      "_________________________________________________________________\n",
      "max_pooling2d_3 (MaxPooling2 (None, 14, 14, 64)        0         \n",
      "_________________________________________________________________\n",
      "batch_normalization_4 (Batch (None, 14, 14, 64)        256       \n",
      "_________________________________________________________________\n",
      "conv2d_4 (Conv2D)            (None, 14, 14, 64)        36928     \n",
      "_________________________________________________________________\n",
      "max_pooling2d_4 (MaxPooling2 (None, 7, 7, 64)          0         \n",
      "_________________________________________________________________\n",
      "dropout_3 (Dropout)          (None, 7, 7, 64)          0         \n",
      "_________________________________________________________________\n",
      "batch_normalization_5 (Batch (None, 7, 7, 64)          256       \n",
      "_________________________________________________________________\n",
      "conv2d_5 (Conv2D)            (None, 7, 7, 64)          36928     \n",
      "_________________________________________________________________\n",
      "max_pooling2d_5 (MaxPooling2 (None, 3, 3, 64)          0         \n",
      "_________________________________________________________________\n",
      "dropout_4 (Dropout)          (None, 3, 3, 64)          0         \n",
      "_________________________________________________________________\n",
      "batch_normalization_6 (Batch (None, 3, 3, 64)          256       \n",
      "_________________________________________________________________\n",
      "flatten_1 (Flatten)          (None, 576)               0         \n",
      "_________________________________________________________________\n",
      "dense_3 (Dense)              (None, 576)               332352    \n",
      "_________________________________________________________________\n",
      "dropout_5 (Dropout)          (None, 576)               0         \n",
      "_________________________________________________________________\n",
      "batch_normalization_7 (Batch (None, 576)               2304      \n",
      "_________________________________________________________________\n",
      "dense_4 (Dense)              (None, 288)               166176    \n",
      "_________________________________________________________________\n",
      "dense_5 (Dense)              (None, 26)                7514      \n",
      "=================================================================\n",
      "Total params: 587,834\n",
      "Trainable params: 586,298\n",
      "Non-trainable params: 1,536\n",
      "_________________________________________________________________\n"
     ]
    }
   ],
   "source": [
    "# Strip the pruning wrappers to finalize the pruned model\n",
    "final_model = tfmot.sparsity.keras.strip_pruning(pruned_model)\n",
    "final_model.summary()"
   ]
  },
  {
   "cell_type": "code",
   "execution_count": null,
   "id": "8193f2c9",
   "metadata": {
    "execution": {
     "iopub.execute_input": "2024-11-02T10:35:53.857711Z",
     "iopub.status.busy": "2024-11-02T10:35:53.854488Z",
     "iopub.status.idle": "2024-11-02T10:35:57.098380Z",
     "shell.execute_reply": "2024-11-02T10:35:57.097661Z",
     "shell.execute_reply.started": "2024-11-02T10:22:25.068024Z"
    },
    "papermill": {
     "duration": 4.790564,
     "end_time": "2024-11-02T10:35:57.098562",
     "exception": false,
     "start_time": "2024-11-02T10:35:52.307998",
     "status": "completed"
    },
    "tags": []
   },
   "outputs": [],
   "source": [
    "# Convert to TensorFlow Lite model with quantization\n",
    "converter = tf.lite.TFLiteConverter.from_keras_model(final_model)\n",
    "\n",
    "# Set quantization parameters\n",
    "converter.optimizations = [tf.lite.Optimize.DEFAULT]  # Default optimization includes quantization\n",
    "\n",
    "# Optionally, if you have representative data, you can enable full integer quantization:\n",
    "# Provide a representative dataset for better accuracy in quantization\n",
    "def representative_dataset():\n",
    "    for data in X_test.take(100):  # use a small sample of your data <<< what if we change this to 1000? to all data? 70rb? how?\n",
    "        yield [tf.dtypes.cast(data, tf.float32)] # can we change this to integer?\n",
    "\n",
    "converter.representative_dataset = representative_dataset\n",
    "converter.target_spec.supported_types = [tf.float16]  # This can be int8 as well, hm... << nope, error\n",
    "\n",
    "# Convert the model\n",
    "quantized_tflite_model = converter.convert()\n",
    "\n",
    "# Save the quantized model to a file\n",
    "with open('quantized_pruned_model2_braille.tflite', 'wb') as f:\n",
    "    f.write(quantized_tflite_model)\n",
    "\n",
    "# To load and use the TFLite model later:\n",
    "interpreter = tf.lite.Interpreter(model_path='quantized_pruned_model2_braille.tflite')\n",
    "interpreter.allocate_tensors()"
   ]
  },
  {
   "cell_type": "code",
   "execution_count": null,
   "id": "16b8ad85",
   "metadata": {
    "execution": {
     "iopub.execute_input": "2024-11-02T10:36:00.228890Z",
     "iopub.status.busy": "2024-11-02T10:36:00.227706Z",
     "iopub.status.idle": "2024-11-02T10:36:00.234225Z",
     "shell.execute_reply": "2024-11-02T10:36:00.233491Z",
     "shell.execute_reply.started": "2024-11-02T10:22:28.346437Z"
    },
    "papermill": {
     "duration": 1.564491,
     "end_time": "2024-11-02T10:36:00.234382",
     "exception": false,
     "start_time": "2024-11-02T10:35:58.669891",
     "status": "completed"
    },
    "tags": []
   },
   "outputs": [],
   "source": [
    "final_model.compile(optimizer=\"RMSprop\", loss=\"SparseCategoricalCrossentropy\", metrics=[\"sparse_categorical_accuracy\"])"
   ]
  },
  {
   "cell_type": "code",
   "execution_count": null,
   "id": "c1105b29",
   "metadata": {
    "execution": {
     "iopub.execute_input": "2024-11-02T10:36:03.381186Z",
     "iopub.status.busy": "2024-11-02T10:36:03.375567Z",
     "iopub.status.idle": "2024-11-02T10:36:43.628416Z",
     "shell.execute_reply": "2024-11-02T10:36:43.628994Z",
     "shell.execute_reply.started": "2024-11-02T10:22:28.363364Z"
    },
    "papermill": {
     "duration": 41.854323,
     "end_time": "2024-11-02T10:36:43.629201",
     "exception": false,
     "start_time": "2024-11-02T10:36:01.774878",
     "status": "completed"
    },
    "tags": []
   },
   "outputs": [
    {
     "name": "stdout",
     "output_type": "stream",
     "text": [
      "Epoch 1/100\n",
      "28/28 [==============================] - 3s 54ms/step - loss: 0.0262 - sparse_categorical_accuracy: 0.9931 - val_loss: 0.6203 - val_sparse_categorical_accuracy: 0.8853\n",
      "Epoch 2/100\n",
      "28/28 [==============================] - 1s 43ms/step - loss: 0.0410 - sparse_categorical_accuracy: 0.9863 - val_loss: 0.6815 - val_sparse_categorical_accuracy: 0.9120\n",
      "Epoch 3/100\n",
      "28/28 [==============================] - 1s 45ms/step - loss: 0.0302 - sparse_categorical_accuracy: 0.9920 - val_loss: 0.4408 - val_sparse_categorical_accuracy: 0.9307\n",
      "Epoch 4/100\n",
      "28/28 [==============================] - 1s 44ms/step - loss: 0.0041 - sparse_categorical_accuracy: 0.9989 - val_loss: 0.4412 - val_sparse_categorical_accuracy: 0.9413\n",
      "Epoch 5/100\n",
      "28/28 [==============================] - 1s 43ms/step - loss: 0.0462 - sparse_categorical_accuracy: 0.9897 - val_loss: 0.7025 - val_sparse_categorical_accuracy: 0.8987\n",
      "Epoch 6/100\n",
      "28/28 [==============================] - 1s 43ms/step - loss: 0.0199 - sparse_categorical_accuracy: 0.9931 - val_loss: 0.9024 - val_sparse_categorical_accuracy: 0.8693\n",
      "Epoch 7/100\n",
      "28/28 [==============================] - 1s 42ms/step - loss: 0.0356 - sparse_categorical_accuracy: 0.9908 - val_loss: 0.4999 - val_sparse_categorical_accuracy: 0.9147\n",
      "Epoch 8/100\n",
      "28/28 [==============================] - 1s 45ms/step - loss: 0.0378 - sparse_categorical_accuracy: 0.9897 - val_loss: 0.3550 - val_sparse_categorical_accuracy: 0.9307\n",
      "Epoch 9/100\n",
      "28/28 [==============================] - 1s 42ms/step - loss: 0.0382 - sparse_categorical_accuracy: 0.9920 - val_loss: 0.8299 - val_sparse_categorical_accuracy: 0.8640\n",
      "Epoch 10/100\n",
      "28/28 [==============================] - 1s 42ms/step - loss: 0.0297 - sparse_categorical_accuracy: 0.9885 - val_loss: 0.2874 - val_sparse_categorical_accuracy: 0.9440\n",
      "Epoch 11/100\n",
      "28/28 [==============================] - 1s 42ms/step - loss: 0.0258 - sparse_categorical_accuracy: 0.9920 - val_loss: 0.3289 - val_sparse_categorical_accuracy: 0.9333\n",
      "Epoch 12/100\n",
      "28/28 [==============================] - 1s 42ms/step - loss: 0.0230 - sparse_categorical_accuracy: 0.9943 - val_loss: 0.4374 - val_sparse_categorical_accuracy: 0.9093\n",
      "Epoch 13/100\n",
      "28/28 [==============================] - 1s 42ms/step - loss: 0.0191 - sparse_categorical_accuracy: 0.9931 - val_loss: 0.3896 - val_sparse_categorical_accuracy: 0.9307\n",
      "Epoch 14/100\n",
      "28/28 [==============================] - 1s 42ms/step - loss: 0.0092 - sparse_categorical_accuracy: 0.9977 - val_loss: 0.3456 - val_sparse_categorical_accuracy: 0.9440\n",
      "Epoch 15/100\n",
      "28/28 [==============================] - 1s 42ms/step - loss: 0.0202 - sparse_categorical_accuracy: 0.9920 - val_loss: 0.3868 - val_sparse_categorical_accuracy: 0.9307\n",
      "Epoch 16/100\n",
      "28/28 [==============================] - 1s 43ms/step - loss: 0.0215 - sparse_categorical_accuracy: 0.9920 - val_loss: 0.3332 - val_sparse_categorical_accuracy: 0.9413\n",
      "Epoch 17/100\n",
      "28/28 [==============================] - 1s 46ms/step - loss: 0.0072 - sparse_categorical_accuracy: 0.9977 - val_loss: 0.4802 - val_sparse_categorical_accuracy: 0.9307\n",
      "Epoch 18/100\n",
      "28/28 [==============================] - 1s 43ms/step - loss: 0.0206 - sparse_categorical_accuracy: 0.9931 - val_loss: 0.3500 - val_sparse_categorical_accuracy: 0.9440\n",
      "Epoch 19/100\n",
      "28/28 [==============================] - 1s 43ms/step - loss: 0.0339 - sparse_categorical_accuracy: 0.9897 - val_loss: 0.4268 - val_sparse_categorical_accuracy: 0.9253\n",
      "Epoch 20/100\n",
      "28/28 [==============================] - 1s 43ms/step - loss: 0.0321 - sparse_categorical_accuracy: 0.9863 - val_loss: 0.3127 - val_sparse_categorical_accuracy: 0.9413\n",
      "Epoch 21/100\n",
      "28/28 [==============================] - 3s 91ms/step - loss: 0.0207 - sparse_categorical_accuracy: 0.9943 - val_loss: 0.3773 - val_sparse_categorical_accuracy: 0.9333\n",
      "Epoch 22/100\n",
      "28/28 [==============================] - 1s 43ms/step - loss: 0.0290 - sparse_categorical_accuracy: 0.9920 - val_loss: 0.3050 - val_sparse_categorical_accuracy: 0.9387\n",
      "Epoch 23/100\n",
      "28/28 [==============================] - 1s 54ms/step - loss: 0.0134 - sparse_categorical_accuracy: 0.9954 - val_loss: 0.3793 - val_sparse_categorical_accuracy: 0.9333\n",
      "Epoch 24/100\n",
      "28/28 [==============================] - 2s 56ms/step - loss: 0.0314 - sparse_categorical_accuracy: 0.9897 - val_loss: 0.5465 - val_sparse_categorical_accuracy: 0.9227\n",
      "Epoch 25/100\n",
      "28/28 [==============================] - 1s 53ms/step - loss: 0.0151 - sparse_categorical_accuracy: 0.9943 - val_loss: 0.5179 - val_sparse_categorical_accuracy: 0.9227\n",
      "Epoch 26/100\n",
      "28/28 [==============================] - 1s 44ms/step - loss: 0.0088 - sparse_categorical_accuracy: 0.9954 - val_loss: 0.3375 - val_sparse_categorical_accuracy: 0.9387\n",
      "Epoch 27/100\n",
      "28/28 [==============================] - 1s 42ms/step - loss: 0.0344 - sparse_categorical_accuracy: 0.9931 - val_loss: 0.4104 - val_sparse_categorical_accuracy: 0.9307\n",
      "Epoch 28/100\n",
      "28/28 [==============================] - 1s 42ms/step - loss: 0.0122 - sparse_categorical_accuracy: 0.9943 - val_loss: 0.5183 - val_sparse_categorical_accuracy: 0.9200\n",
      "Epoch 29/100\n",
      "28/28 [==============================] - 1s 42ms/step - loss: 0.0320 - sparse_categorical_accuracy: 0.9931 - val_loss: 0.8321 - val_sparse_categorical_accuracy: 0.8853\n",
      "Epoch 30/100\n",
      "28/28 [==============================] - 1s 42ms/step - loss: 0.0124 - sparse_categorical_accuracy: 0.9966 - val_loss: 0.5592 - val_sparse_categorical_accuracy: 0.9200\n",
      "Total time: 40.25 seconds\n"
     ]
    }
   ],
   "source": [
    "start_quantization_time = time.time()\n",
    "\n",
    "history = final_model.fit(x=X_train,\n",
    "                    y=y_train,\n",
    "                    epochs=100,\n",
    "                    validation_split=0.3,\n",
    "                    callbacks=[es1, es2, tfmot.sparsity.keras.UpdatePruningStep()])\n",
    "\n",
    "end_time = time.time()\n",
    "total_time = end_time - start_quantization_time \n",
    "print(f\"Total time: {total_time:.2f} seconds\")"
   ]
  },
  {
   "cell_type": "code",
   "execution_count": null,
   "id": "945a2dd5",
   "metadata": {
    "execution": {
     "iopub.execute_input": "2024-11-02T10:36:47.118735Z",
     "iopub.status.busy": "2024-11-02T10:36:47.117919Z",
     "iopub.status.idle": "2024-11-02T10:36:47.121950Z",
     "shell.execute_reply": "2024-11-02T10:36:47.121208Z",
     "shell.execute_reply.started": "2024-11-02T10:23:06.366604Z"
    },
    "papermill": {
     "duration": 1.734493,
     "end_time": "2024-11-02T10:36:47.122120",
     "exception": false,
     "start_time": "2024-11-02T10:36:45.387627",
     "status": "completed"
    },
    "tags": []
   },
   "outputs": [
    {
     "name": "stdout",
     "output_type": "stream",
     "text": [
      "Model size after quantization: 1152.00 KB\n"
     ]
    }
   ],
   "source": [
    "model_size = os.path.getsize('quantized_pruned_model2_braille.tflite')\n",
    "print(f\"Model size after quantization: {model_size / 1024:.2f} KB\")"
   ]
  },
  {
   "cell_type": "code",
   "execution_count": null,
   "id": "0b4aec2e",
   "metadata": {
    "execution": {
     "iopub.execute_input": "2024-11-02T10:36:50.577004Z",
     "iopub.status.busy": "2024-11-02T10:36:50.576234Z",
     "iopub.status.idle": "2024-11-02T10:37:28.957411Z",
     "shell.execute_reply": "2024-11-02T10:37:28.952269Z",
     "shell.execute_reply.started": "2024-11-02T10:23:06.374551Z"
    },
    "papermill": {
     "duration": 40.11118,
     "end_time": "2024-11-02T10:37:28.957576",
     "exception": false,
     "start_time": "2024-11-02T10:36:48.846396",
     "status": "completed"
    },
    "tags": []
   },
   "outputs": [
    {
     "name": "stdout",
     "output_type": "stream",
     "text": [
      "10/10 [==============================] - 0s 24ms/step - loss: 0.3833 - sparse_categorical_accuracy: 0.9359\n",
      "Test accuracy: 0.9358974099159241\n"
     ]
    }
   ],
   "source": [
    "# Evaluate the model on the test data\n",
    "final_test_loss, final_test_acc = final_model.evaluate(X_test, y_test)\n",
    "\n",
    "print(f\"Test accuracy: {final_test_acc}\")"
   ]
  }
 ],
 "metadata": {
  "kaggle": {
   "accelerator": "none",
   "dataSources": [
    {
     "datasetId": 452244,
     "sourceId": 853989,
     "sourceType": "datasetVersion"
    }
   ],
   "dockerImageVersionId": 30152,
   "isGpuEnabled": false,
   "isInternetEnabled": true,
   "language": "python",
   "sourceType": "notebook"
  },
  "kernelspec": {
   "display_name": "Python 3",
   "language": "python",
   "name": "python3"
  },
  "language_info": {
   "codemirror_mode": {
    "name": "ipython",
    "version": 3
   },
   "file_extension": ".py",
   "mimetype": "text/x-python",
   "name": "python",
   "nbconvert_exporter": "python",
   "pygments_lexer": "ipython3",
   "version": "3.10.5"
  },
  "papermill": {
   "default_parameters": {},
   "duration": 566.666987,
   "end_time": "2024-11-02T10:37:34.209483",
   "environment_variables": {},
   "exception": null,
   "input_path": "__notebook__.ipynb",
   "output_path": "__notebook__.ipynb",
   "parameters": {},
   "start_time": "2024-11-02T10:28:07.542496",
   "version": "2.3.3"
  }
 },
 "nbformat": 4,
 "nbformat_minor": 5
}
